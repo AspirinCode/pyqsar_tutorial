{
 "cells": [
  {
   "cell_type": "markdown",
   "metadata": {},
   "source": [
    "# ++pyqsar tutorial for multiple linear regression model++\n",
    "### Sinyoung Kim\n",
    "### crong24601@gmail.com\n",
    "### Release : 27 December 2017\n",
    "---"
   ]
  },
  {
   "cell_type": "code",
   "execution_count": 1,
   "metadata": {},
   "outputs": [
    {
     "name": "stderr",
     "output_type": "stream",
     "text": [
      "Python 2.7.13 :: Anaconda custom (64-bit)\n"
     ]
    }
   ],
   "source": [
    "! python -V"
   ]
  },
  {
   "cell_type": "markdown",
   "metadata": {},
   "source": [
    "## Data load"
   ]
  },
  {
   "cell_type": "code",
   "execution_count": 2,
   "metadata": {
    "collapsed": true
   },
   "outputs": [],
   "source": [
    "import pandas as pd\n",
    "sample_data = pd.read_csv('sample_data.csv',sep=\",\")\n",
    "\n",
    "X_data = sample_data.iloc[:,1:-2]\n",
    "y_data = sample_data.iloc[:,-1:]"
   ]
  },
  {
   "cell_type": "code",
   "execution_count": 3,
   "metadata": {},
   "outputs": [
    {
     "data": {
      "text/html": [
       "<div>\n",
       "<style>\n",
       "    .dataframe thead tr:only-child th {\n",
       "        text-align: right;\n",
       "    }\n",
       "\n",
       "    .dataframe thead th {\n",
       "        text-align: left;\n",
       "    }\n",
       "\n",
       "    .dataframe tbody tr th {\n",
       "        vertical-align: top;\n",
       "    }\n",
       "</style>\n",
       "<table border=\"1\" class=\"dataframe\">\n",
       "  <thead>\n",
       "    <tr style=\"text-align: right;\">\n",
       "      <th></th>\n",
       "      <th>MW</th>\n",
       "      <th>AMW</th>\n",
       "      <th>Sv</th>\n",
       "      <th>Se</th>\n",
       "      <th>Sp</th>\n",
       "      <th>Mv</th>\n",
       "      <th>Me</th>\n",
       "      <th>Mp</th>\n",
       "      <th>Mi</th>\n",
       "      <th>nAT</th>\n",
       "      <th>...</th>\n",
       "      <th>DLS_03</th>\n",
       "      <th>DLS_04</th>\n",
       "      <th>DLS_05</th>\n",
       "      <th>DLS_cons</th>\n",
       "      <th>LLS_01</th>\n",
       "      <th>LLS_02</th>\n",
       "      <th>MlogP_o</th>\n",
       "      <th>X3v_o</th>\n",
       "      <th>H-04_o</th>\n",
       "      <th>F01[C-C]_o</th>\n",
       "    </tr>\n",
       "  </thead>\n",
       "  <tbody>\n",
       "    <tr>\n",
       "      <th>0</th>\n",
       "      <td>148.91</td>\n",
       "      <td>29.782</td>\n",
       "      <td>4.229</td>\n",
       "      <td>6.534</td>\n",
       "      <td>3.688</td>\n",
       "      <td>0.846</td>\n",
       "      <td>1.307</td>\n",
       "      <td>0.738</td>\n",
       "      <td>1.338</td>\n",
       "      <td>5</td>\n",
       "      <td>...</td>\n",
       "      <td>0.83</td>\n",
       "      <td>0.3</td>\n",
       "      <td>0.0</td>\n",
       "      <td>0.66</td>\n",
       "      <td>1.0</td>\n",
       "      <td>0.88</td>\n",
       "      <td>1.817</td>\n",
       "      <td>0.000</td>\n",
       "      <td>0</td>\n",
       "      <td>0</td>\n",
       "    </tr>\n",
       "    <tr>\n",
       "      <th>1</th>\n",
       "      <td>100.05</td>\n",
       "      <td>11.117</td>\n",
       "      <td>5.445</td>\n",
       "      <td>10.516</td>\n",
       "      <td>4.551</td>\n",
       "      <td>0.605</td>\n",
       "      <td>1.168</td>\n",
       "      <td>0.506</td>\n",
       "      <td>1.275</td>\n",
       "      <td>9</td>\n",
       "      <td>...</td>\n",
       "      <td>0.83</td>\n",
       "      <td>0.9</td>\n",
       "      <td>1.0</td>\n",
       "      <td>0.91</td>\n",
       "      <td>1.0</td>\n",
       "      <td>1.00</td>\n",
       "      <td>0.580</td>\n",
       "      <td>0.179</td>\n",
       "      <td>0</td>\n",
       "      <td>1</td>\n",
       "    </tr>\n",
       "    <tr>\n",
       "      <th>2</th>\n",
       "      <td>114.03</td>\n",
       "      <td>14.254</td>\n",
       "      <td>5.633</td>\n",
       "      <td>9.960</td>\n",
       "      <td>4.244</td>\n",
       "      <td>0.704</td>\n",
       "      <td>1.245</td>\n",
       "      <td>0.531</td>\n",
       "      <td>1.284</td>\n",
       "      <td>8</td>\n",
       "      <td>...</td>\n",
       "      <td>0.83</td>\n",
       "      <td>0.8</td>\n",
       "      <td>0.5</td>\n",
       "      <td>0.83</td>\n",
       "      <td>1.0</td>\n",
       "      <td>1.00</td>\n",
       "      <td>0.366</td>\n",
       "      <td>0.243</td>\n",
       "      <td>0</td>\n",
       "      <td>1</td>\n",
       "    </tr>\n",
       "    <tr>\n",
       "      <th>3</th>\n",
       "      <td>187.37</td>\n",
       "      <td>23.421</td>\n",
       "      <td>7.213</td>\n",
       "      <td>10.160</td>\n",
       "      <td>6.670</td>\n",
       "      <td>0.902</td>\n",
       "      <td>1.270</td>\n",
       "      <td>0.834</td>\n",
       "      <td>1.262</td>\n",
       "      <td>8</td>\n",
       "      <td>...</td>\n",
       "      <td>0.83</td>\n",
       "      <td>0.5</td>\n",
       "      <td>0.5</td>\n",
       "      <td>0.76</td>\n",
       "      <td>1.0</td>\n",
       "      <td>0.88</td>\n",
       "      <td>2.783</td>\n",
       "      <td>1.250</td>\n",
       "      <td>0</td>\n",
       "      <td>1</td>\n",
       "    </tr>\n",
       "    <tr>\n",
       "      <th>4</th>\n",
       "      <td>132.07</td>\n",
       "      <td>11.006</td>\n",
       "      <td>7.355</td>\n",
       "      <td>13.913</td>\n",
       "      <td>6.250</td>\n",
       "      <td>0.613</td>\n",
       "      <td>1.159</td>\n",
       "      <td>0.521</td>\n",
       "      <td>1.269</td>\n",
       "      <td>12</td>\n",
       "      <td>...</td>\n",
       "      <td>0.83</td>\n",
       "      <td>0.9</td>\n",
       "      <td>1.0</td>\n",
       "      <td>0.94</td>\n",
       "      <td>1.0</td>\n",
       "      <td>1.00</td>\n",
       "      <td>1.209</td>\n",
       "      <td>0.530</td>\n",
       "      <td>1</td>\n",
       "      <td>2</td>\n",
       "    </tr>\n",
       "  </tbody>\n",
       "</table>\n",
       "<p>5 rows × 1615 columns</p>\n",
       "</div>"
      ],
      "text/plain": [
       "       MW     AMW     Sv      Se     Sp     Mv     Me     Mp     Mi  nAT  \\\n",
       "0  148.91  29.782  4.229   6.534  3.688  0.846  1.307  0.738  1.338    5   \n",
       "1  100.05  11.117  5.445  10.516  4.551  0.605  1.168  0.506  1.275    9   \n",
       "2  114.03  14.254  5.633   9.960  4.244  0.704  1.245  0.531  1.284    8   \n",
       "3  187.37  23.421  7.213  10.160  6.670  0.902  1.270  0.834  1.262    8   \n",
       "4  132.07  11.006  7.355  13.913  6.250  0.613  1.159  0.521  1.269   12   \n",
       "\n",
       "      ...      DLS_03  DLS_04  DLS_05  DLS_cons  LLS_01  LLS_02  MlogP_o  \\\n",
       "0     ...        0.83     0.3     0.0      0.66     1.0    0.88    1.817   \n",
       "1     ...        0.83     0.9     1.0      0.91     1.0    1.00    0.580   \n",
       "2     ...        0.83     0.8     0.5      0.83     1.0    1.00    0.366   \n",
       "3     ...        0.83     0.5     0.5      0.76     1.0    0.88    2.783   \n",
       "4     ...        0.83     0.9     1.0      0.94     1.0    1.00    1.209   \n",
       "\n",
       "   X3v_o  H-04_o  F01[C-C]_o  \n",
       "0  0.000       0           0  \n",
       "1  0.179       0           1  \n",
       "2  0.243       0           1  \n",
       "3  1.250       0           1  \n",
       "4  0.530       1           2  \n",
       "\n",
       "[5 rows x 1615 columns]"
      ]
     },
     "execution_count": 3,
     "metadata": {},
     "output_type": "execute_result"
    }
   ],
   "source": [
    "X_data.head()"
   ]
  },
  {
   "cell_type": "code",
   "execution_count": 4,
   "metadata": {},
   "outputs": [
    {
     "data": {
      "text/plain": [
       "(56, 1615)"
      ]
     },
     "execution_count": 4,
     "metadata": {},
     "output_type": "execute_result"
    }
   ],
   "source": [
    "X_data.shape"
   ]
  },
  {
   "cell_type": "code",
   "execution_count": 5,
   "metadata": {},
   "outputs": [
    {
     "data": {
      "text/html": [
       "<div>\n",
       "<style>\n",
       "    .dataframe thead tr:only-child th {\n",
       "        text-align: right;\n",
       "    }\n",
       "\n",
       "    .dataframe thead th {\n",
       "        text-align: left;\n",
       "    }\n",
       "\n",
       "    .dataframe tbody tr th {\n",
       "        vertical-align: top;\n",
       "    }\n",
       "</style>\n",
       "<table border=\"1\" class=\"dataframe\">\n",
       "  <thead>\n",
       "    <tr style=\"text-align: right;\">\n",
       "      <th></th>\n",
       "      <th>binary</th>\n",
       "    </tr>\n",
       "  </thead>\n",
       "  <tbody>\n",
       "    <tr>\n",
       "      <th>0</th>\n",
       "      <td>1</td>\n",
       "    </tr>\n",
       "    <tr>\n",
       "      <th>1</th>\n",
       "      <td>1</td>\n",
       "    </tr>\n",
       "    <tr>\n",
       "      <th>2</th>\n",
       "      <td>1</td>\n",
       "    </tr>\n",
       "    <tr>\n",
       "      <th>3</th>\n",
       "      <td>1</td>\n",
       "    </tr>\n",
       "    <tr>\n",
       "      <th>4</th>\n",
       "      <td>1</td>\n",
       "    </tr>\n",
       "  </tbody>\n",
       "</table>\n",
       "</div>"
      ],
      "text/plain": [
       "   binary\n",
       "0       1\n",
       "1       1\n",
       "2       1\n",
       "3       1\n",
       "4       1"
      ]
     },
     "execution_count": 5,
     "metadata": {},
     "output_type": "execute_result"
    }
   ],
   "source": [
    "y_data.head()"
   ]
  },
  {
   "cell_type": "code",
   "execution_count": 6,
   "metadata": {},
   "outputs": [
    {
     "data": {
      "text/plain": [
       "(56, 1)"
      ]
     },
     "execution_count": 6,
     "metadata": {},
     "output_type": "execute_result"
    }
   ],
   "source": [
    "y_data.shape"
   ]
  },
  {
   "cell_type": "markdown",
   "metadata": {},
   "source": [
    "## Hello pyqsar!"
   ]
  },
  {
   "cell_type": "code",
   "execution_count": 7,
   "metadata": {
    "collapsed": true
   },
   "outputs": [],
   "source": [
    "import pyqsar"
   ]
  },
  {
   "cell_type": "markdown",
   "metadata": {},
   "source": [
    "## Widget for data"
   ]
  },
  {
   "cell_type": "code",
   "execution_count": 8,
   "metadata": {
    "collapsed": true
   },
   "outputs": [],
   "source": [
    "from pyqsar import data_tools as dt"
   ]
  },
  {
   "cell_type": "code",
   "execution_count": 28,
   "metadata": {},
   "outputs": [
    {
     "data": {
      "application/vnd.jupyter.widget-view+json": {
       "model_id": "037e50015cbe470aad09f97308a4589a"
      }
     },
     "metadata": {},
     "output_type": "display_data"
    },
    {
     "data": {
      "application/vnd.jupyter.widget-view+json": {
       "model_id": "442ec24a50f441b396248f288ac33cfd"
      }
     },
     "metadata": {},
     "output_type": "display_data"
    },
    {
     "data": {
      "text/plain": [
       "<pyqsar.data_tools.SearchFeature instance at 0x00000000131B8948>"
      ]
     },
     "execution_count": 28,
     "metadata": {},
     "output_type": "execute_result"
    },
    {
     "name": "stdout",
     "output_type": "stream",
     "text": [
      "Wap\n",
      "Wi_Dt\n",
      "WiA_Dt\n",
      "WiA_Dz(Z)\n",
      "WiA_Dz(v)\n",
      "WiA_Dz(e)\n",
      "WiA_B(m)\n",
      "WiA_B(v)\n",
      "WiA_B(p)\n",
      "WiA_B(s)\n",
      "Wi_G\n",
      "WiA_G\n",
      "WiA_RG\n",
      "WiA_G/D\n"
     ]
    }
   ],
   "source": [
    "dt.SearchFeature(X_data)"
   ]
  },
  {
   "cell_type": "code",
   "execution_count": 10,
   "metadata": {},
   "outputs": [
    {
     "data": {
      "application/vnd.jupyter.widget-view+json": {
       "model_id": "f1a74c88408840968fb7cdf6e95fcc22"
      }
     },
     "metadata": {},
     "output_type": "display_data"
    },
    {
     "data": {
      "application/vnd.jupyter.widget-view+json": {
       "model_id": "3bcb6f2618a74360b98a7d0bf737d435"
      }
     },
     "metadata": {},
     "output_type": "display_data"
    },
    {
     "data": {
      "text/plain": [
       "<pyqsar.data_tools.ScatterMatrix instance at 0x00000000102DB588>"
      ]
     },
     "execution_count": 10,
     "metadata": {},
     "output_type": "execute_result"
    },
    {
     "data": {
      "image/png": "[encoded data removed]",
      "text/plain": [
       "<matplotlib.figure.Figure at 0x1317bdd8>"
      ]
     },
     "metadata": {},
     "output_type": "display_data"
    }
   ],
   "source": [
    "%matplotlib inline\n",
    "dt.ScatterMatrix(X_data)"
   ]
  },
  {
   "cell_type": "markdown",
   "metadata": {},
   "source": [
    "## Remove empty feature"
   ]
  },
  {
   "cell_type": "code",
   "execution_count": 11,
   "metadata": {},
   "outputs": [
    {
     "data": {
      "text/plain": [
       "(56, 1553)"
      ]
     },
     "execution_count": 11,
     "metadata": {},
     "output_type": "execute_result"
    }
   ],
   "source": [
    "X_data.shape"
   ]
  },
  {
   "cell_type": "code",
   "execution_count": 12,
   "metadata": {
    "collapsed": true
   },
   "outputs": [],
   "source": [
    "X_data = dt.rm_empty_feature(X_data)"
   ]
  },
  {
   "cell_type": "code",
   "execution_count": 13,
   "metadata": {},
   "outputs": [
    {
     "data": {
      "text/plain": [
       "(56, 1552)"
      ]
     },
     "execution_count": 13,
     "metadata": {},
     "output_type": "execute_result"
    }
   ],
   "source": [
    "X_data.shape"
   ]
  },
  {
   "cell_type": "markdown",
   "metadata": {},
   "source": [
    "## Remove NaN"
   ]
  },
  {
   "cell_type": "code",
   "execution_count": 14,
   "metadata": {},
   "outputs": [
    {
     "data": {
      "text/plain": [
       "(56, 1552)"
      ]
     },
     "execution_count": 14,
     "metadata": {},
     "output_type": "execute_result"
    }
   ],
   "source": [
    "X_data.shape"
   ]
  },
  {
   "cell_type": "code",
   "execution_count": 15,
   "metadata": {
    "collapsed": true
   },
   "outputs": [],
   "source": [
    "X_data = dt.rmNaN(X_data)"
   ]
  },
  {
   "cell_type": "code",
   "execution_count": 16,
   "metadata": {},
   "outputs": [
    {
     "data": {
      "text/plain": [
       "(56, 1552)"
      ]
     },
     "execution_count": 16,
     "metadata": {},
     "output_type": "execute_result"
    }
   ],
   "source": [
    "X_data.shape"
   ]
  },
  {
   "cell_type": "markdown",
   "metadata": {},
   "source": [
    "## Data scaling"
   ]
  },
  {
   "cell_type": "code",
   "execution_count": 17,
   "metadata": {
    "collapsed": true
   },
   "outputs": [],
   "source": [
    "from sklearn.preprocessing import MinMaxScaler\n",
    "header = list(X_data.columns.values)\n",
    "scaler = MinMaxScaler()\n",
    "X_data_scaled = scaler.fit_transform(X_data)\n",
    "X_data = pd.DataFrame(X_data_scaled, columns=header)"
   ]
  },
  {
   "cell_type": "code",
   "execution_count": 18,
   "metadata": {},
   "outputs": [
    {
     "data": {
      "text/html": [
       "<div>\n",
       "<style>\n",
       "    .dataframe thead tr:only-child th {\n",
       "        text-align: right;\n",
       "    }\n",
       "\n",
       "    .dataframe thead th {\n",
       "        text-align: left;\n",
       "    }\n",
       "\n",
       "    .dataframe tbody tr th {\n",
       "        vertical-align: top;\n",
       "    }\n",
       "</style>\n",
       "<table border=\"1\" class=\"dataframe\">\n",
       "  <thead>\n",
       "    <tr style=\"text-align: right;\">\n",
       "      <th></th>\n",
       "      <th>MW</th>\n",
       "      <th>AMW</th>\n",
       "      <th>Sv</th>\n",
       "      <th>Se</th>\n",
       "      <th>Sp</th>\n",
       "      <th>Mv</th>\n",
       "      <th>Me</th>\n",
       "      <th>Mp</th>\n",
       "      <th>Mi</th>\n",
       "      <th>nAT</th>\n",
       "      <th>...</th>\n",
       "      <th>DLS_03</th>\n",
       "      <th>DLS_04</th>\n",
       "      <th>DLS_05</th>\n",
       "      <th>DLS_cons</th>\n",
       "      <th>LLS_01</th>\n",
       "      <th>LLS_02</th>\n",
       "      <th>MlogP_o</th>\n",
       "      <th>X3v_o</th>\n",
       "      <th>H-04_o</th>\n",
       "      <th>F01[C-C]_o</th>\n",
       "    </tr>\n",
       "  </thead>\n",
       "  <tbody>\n",
       "    <tr>\n",
       "      <th>0</th>\n",
       "      <td>0.147617</td>\n",
       "      <td>0.816056</td>\n",
       "      <td>0.000000</td>\n",
       "      <td>0.000000</td>\n",
       "      <td>0.038042</td>\n",
       "      <td>0.731458</td>\n",
       "      <td>0.929688</td>\n",
       "      <td>0.524946</td>\n",
       "      <td>0.772512</td>\n",
       "      <td>0.000000</td>\n",
       "      <td>...</td>\n",
       "      <td>0.0</td>\n",
       "      <td>0.000000</td>\n",
       "      <td>0.0</td>\n",
       "      <td>0.083333</td>\n",
       "      <td>1.0</td>\n",
       "      <td>0.52</td>\n",
       "      <td>0.330901</td>\n",
       "      <td>0.000000</td>\n",
       "      <td>0.0</td>\n",
       "      <td>0.000000</td>\n",
       "    </tr>\n",
       "    <tr>\n",
       "      <th>1</th>\n",
       "      <td>0.011145</td>\n",
       "      <td>0.093559</td>\n",
       "      <td>0.075406</td>\n",
       "      <td>0.137434</td>\n",
       "      <td>0.117151</td>\n",
       "      <td>0.115090</td>\n",
       "      <td>0.386719</td>\n",
       "      <td>0.021692</td>\n",
       "      <td>0.473934</td>\n",
       "      <td>0.181818</td>\n",
       "      <td>...</td>\n",
       "      <td>0.0</td>\n",
       "      <td>1.000000</td>\n",
       "      <td>1.0</td>\n",
       "      <td>0.777778</td>\n",
       "      <td>1.0</td>\n",
       "      <td>1.00</td>\n",
       "      <td>0.048803</td>\n",
       "      <td>0.062239</td>\n",
       "      <td>0.0</td>\n",
       "      <td>0.142857</td>\n",
       "    </tr>\n",
       "    <tr>\n",
       "      <th>2</th>\n",
       "      <td>0.050193</td>\n",
       "      <td>0.214988</td>\n",
       "      <td>0.087064</td>\n",
       "      <td>0.118244</td>\n",
       "      <td>0.089009</td>\n",
       "      <td>0.368286</td>\n",
       "      <td>0.687500</td>\n",
       "      <td>0.075922</td>\n",
       "      <td>0.516588</td>\n",
       "      <td>0.136364</td>\n",
       "      <td>...</td>\n",
       "      <td>0.0</td>\n",
       "      <td>0.833333</td>\n",
       "      <td>0.5</td>\n",
       "      <td>0.555556</td>\n",
       "      <td>1.0</td>\n",
       "      <td>1.00</td>\n",
       "      <td>0.000000</td>\n",
       "      <td>0.084492</td>\n",
       "      <td>0.0</td>\n",
       "      <td>0.142857</td>\n",
       "    </tr>\n",
       "    <tr>\n",
       "      <th>3</th>\n",
       "      <td>0.255042</td>\n",
       "      <td>0.569830</td>\n",
       "      <td>0.185043</td>\n",
       "      <td>0.125147</td>\n",
       "      <td>0.311394</td>\n",
       "      <td>0.874680</td>\n",
       "      <td>0.785156</td>\n",
       "      <td>0.733189</td>\n",
       "      <td>0.412322</td>\n",
       "      <td>0.136364</td>\n",
       "      <td>...</td>\n",
       "      <td>0.0</td>\n",
       "      <td>0.333333</td>\n",
       "      <td>0.5</td>\n",
       "      <td>0.361111</td>\n",
       "      <td>1.0</td>\n",
       "      <td>0.52</td>\n",
       "      <td>0.551197</td>\n",
       "      <td>0.434631</td>\n",
       "      <td>0.0</td>\n",
       "      <td>0.142857</td>\n",
       "    </tr>\n",
       "    <tr>\n",
       "      <th>4</th>\n",
       "      <td>0.100581</td>\n",
       "      <td>0.089262</td>\n",
       "      <td>0.193848</td>\n",
       "      <td>0.254677</td>\n",
       "      <td>0.272894</td>\n",
       "      <td>0.135550</td>\n",
       "      <td>0.351562</td>\n",
       "      <td>0.054230</td>\n",
       "      <td>0.445498</td>\n",
       "      <td>0.318182</td>\n",
       "      <td>...</td>\n",
       "      <td>0.0</td>\n",
       "      <td>1.000000</td>\n",
       "      <td>1.0</td>\n",
       "      <td>0.861111</td>\n",
       "      <td>1.0</td>\n",
       "      <td>1.00</td>\n",
       "      <td>0.192246</td>\n",
       "      <td>0.184284</td>\n",
       "      <td>0.5</td>\n",
       "      <td>0.285714</td>\n",
       "    </tr>\n",
       "  </tbody>\n",
       "</table>\n",
       "<p>5 rows × 1552 columns</p>\n",
       "</div>"
      ],
      "text/plain": [
       "         MW       AMW        Sv        Se        Sp        Mv        Me  \\\n",
       "0  0.147617  0.816056  0.000000  0.000000  0.038042  0.731458  0.929688   \n",
       "1  0.011145  0.093559  0.075406  0.137434  0.117151  0.115090  0.386719   \n",
       "2  0.050193  0.214988  0.087064  0.118244  0.089009  0.368286  0.687500   \n",
       "3  0.255042  0.569830  0.185043  0.125147  0.311394  0.874680  0.785156   \n",
       "4  0.100581  0.089262  0.193848  0.254677  0.272894  0.135550  0.351562   \n",
       "\n",
       "         Mp        Mi       nAT     ...      DLS_03    DLS_04  DLS_05  \\\n",
       "0  0.524946  0.772512  0.000000     ...         0.0  0.000000     0.0   \n",
       "1  0.021692  0.473934  0.181818     ...         0.0  1.000000     1.0   \n",
       "2  0.075922  0.516588  0.136364     ...         0.0  0.833333     0.5   \n",
       "3  0.733189  0.412322  0.136364     ...         0.0  0.333333     0.5   \n",
       "4  0.054230  0.445498  0.318182     ...         0.0  1.000000     1.0   \n",
       "\n",
       "   DLS_cons  LLS_01  LLS_02   MlogP_o     X3v_o  H-04_o  F01[C-C]_o  \n",
       "0  0.083333     1.0    0.52  0.330901  0.000000     0.0    0.000000  \n",
       "1  0.777778     1.0    1.00  0.048803  0.062239     0.0    0.142857  \n",
       "2  0.555556     1.0    1.00  0.000000  0.084492     0.0    0.142857  \n",
       "3  0.361111     1.0    0.52  0.551197  0.434631     0.0    0.142857  \n",
       "4  0.861111     1.0    1.00  0.192246  0.184284     0.5    0.285714  \n",
       "\n",
       "[5 rows x 1552 columns]"
      ]
     },
     "execution_count": 18,
     "metadata": {},
     "output_type": "execute_result"
    }
   ],
   "source": [
    "X_data.head()"
   ]
  },
  {
   "cell_type": "markdown",
   "metadata": {},
   "source": [
    "## Feature clustering for feature selection"
   ]
  },
  {
   "cell_type": "code",
   "execution_count": 19,
   "metadata": {
    "collapsed": true
   },
   "outputs": [],
   "source": [
    "from pyqsar import clustering as cl"
   ]
  },
  {
   "cell_type": "code",
   "execution_count": 20,
   "metadata": {},
   "outputs": [
    {
     "name": "stdout",
     "output_type": "stream",
     "text": [
      "average linkage cophenet: 0.766126815693\n",
      "complete linkage cophenet: 0.767178530252\n",
      "single linkage cophenet: 0.303907183415\n"
     ]
    }
   ],
   "source": [
    "# calculate cophenetic correlation coefficient \n",
    "cl.cophenetic(X_data)"
   ]
  },
  {
   "cell_type": "code",
   "execution_count": 21,
   "metadata": {},
   "outputs": [
    {
     "name": "stdout",
     "output_type": "stream",
     "text": [
      "\n",
      "\u001b[1;46mCluster\u001b[0m 1 ['H3e', 'H3v'] \n",
      "\u001b[1;46mCluster\u001b[0m 2 ['H3u'] \n",
      "\u001b[1;46mCluster\u001b[0m 3 ['F03[C-F]'] \n",
      "\u001b[1;46mCluster\u001b[0m 4 ['ATSC3e', 'ATSC2e'] \n",
      "\u001b[1;46mCluster\u001b[0m 5 ['ATSC2s', 'Mor05e', 'ATSC3s', 'Mor10p', 'Mor10v'] \n",
      "\u001b[1;46mCluster\u001b[0m 6 ['SIC0'] \n",
      "\u001b[1;46mCluster\u001b[0m 7 ['CIC1'] \n",
      "\u001b[1;46mCluster\u001b[0m 8 ['Mor08u', 'Mor08e'] \n",
      "\u001b[1;46mCluster\u001b[0m 9 ['Mor27e', 'Mor27u'] \n",
      "\u001b[1;46mCluster\u001b[0m 10 ['RDF035m', 'RDF035s', 'F03[F-F]'] \n",
      "\u001b[1;46mCluster\u001b[0m 11 ['Eig13_AEA(ed)', 'Eig12_AEA(ed)', 'SpMax3_Bh(s)'] \n",
      "\u001b[1;46mCluster\u001b[0m 12 ['F02[C-F]', 'H3s'] \n",
      "\u001b[1;46mCluster\u001b[0m 13 ['H4s', 'H4v'] \n",
      "\u001b[1;46mCluster\u001b[0m 14 ['H4m'] \n",
      "\u001b[1;46mCluster\u001b[0m 15 ['RDF025m', 'RDF025s'] \n",
      "\u001b[1;46mCluster\u001b[0m 16 ['F04[F-F]'] \n",
      "\u001b[1;46mCluster\u001b[0m 17 ['DBI', 'SpAD_EA(dm)'] \n",
      "\u001b[1;46mCluster\u001b[0m 18 ['MAXDN', 'P_VSA_MR_2', 'ATS2s'] \n",
      "\u001b[1;46mCluster\u001b[0m 19 ['Chi_Dz(v)'] \n",
      "\u001b[1;46mCluster\u001b[0m 20 ['Eig03_EA(dm)', 'ChiA_D/Dt'] \n",
      "\u001b[1;46mCluster\u001b[0m 21 ['P_VSA_s_6'] \n",
      "\u001b[1;46mCluster\u001b[0m 22 ['EE_B(s)', 'P_VSA_i_4', 'nF', 'RTs', 'P_VSA_LogP_5', 'SM1_Dz(i)', 'ATSC1s', 'ATSC1e', 'ATSC1i', 'SM1_Dz(e)', 'DELS', 'QXXs'] \n",
      "\u001b[1;46mCluster\u001b[0m 23 ['SM1_Dz(v)', 'P_VSA_m_3', 'P_VSA_v_2', 'nHAcc', 'SpMAD_Dz(p)'] \n",
      "\u001b[1;46mCluster\u001b[0m 24 ['Mor02m'] \n",
      "\u001b[1;46mCluster\u001b[0m 25 ['Mor32u', 'Mor32e'] \n",
      "\u001b[1;46mCluster\u001b[0m 26 ['Mor09u', 'Mor09e', 'Mor10u', 'Mor10e'] \n",
      "\u001b[1;46mCluster\u001b[0m 27 ['Mor04s', 'Mor04e'] \n",
      "\u001b[1;46mCluster\u001b[0m 28 ['BAC', 'SssssC', 'NssssC', 'nHet', 'GGI1'] \n",
      "\u001b[1;46mCluster\u001b[0m 29 ['Uindex', 'Mor01s', 'AVS_Dz(v)', 'CENT', 'SMTI', 'Mor03e', 'Mor03u', 'Mor03s'] \n",
      "\u001b[1;46mCluster\u001b[0m 30 ['AVS_D/Dt', 'SM3_D/Dt', 'WiA_Dz(v)'] \n",
      "\u001b[1;46mCluster\u001b[0m 31 ['S2K'] \n",
      "\u001b[1;46mCluster\u001b[0m 32 ['VR1_RG', 'P_VSA_p_1', 'RTe', 'RTi'] \n",
      "\u001b[1;46mCluster\u001b[0m 33 ['J_G/D'] \n",
      "\u001b[1;46mCluster\u001b[0m 34 ['H2s', 'H2m'] \n",
      "\u001b[1;46mCluster\u001b[0m 35 ['SHP2'] \n",
      "\u001b[1;46mCluster\u001b[0m 36 ['SpMax6_Bh(v)', 'QXXe', 'QXXv'] \n",
      "\u001b[1;46mCluster\u001b[0m 37 ['ATSC3i', 'Eig05_AEA(ed)', 'ATSC2i', 'H_Dz(Z)', 'ZM2V', 'Ram', 'Eig06_AEA(ed)', 'GGI3', 'GGI2', 'Pol', 'Qindex', 'VvdwZAZ'] \n",
      "\u001b[1;46mCluster\u001b[0m 38 ['Vx', 'Eta_alpha', 'RTv', 'SpAD_B(m)', 'HTv', 'XMOD', 'SAtot'] \n",
      "\u001b[1;46mCluster\u001b[0m 39 ['Eig05_AEA(dm)'] \n",
      "\u001b[1;46mCluster\u001b[0m 40 ['Eta_C', 'Mor01m', 'Eta_L', 'nX', 'Mor03v'] \n",
      "\u001b[1;46mCluster\u001b[0m 41 ['PHI'] \n",
      "\u001b[1;46mCluster\u001b[0m 42 ['F04[C-F]', 'GGI4'] \n",
      "\u001b[1;46mCluster\u001b[0m 43 ['Eig05_AEA(ri)', 'SM15_AEA(ri)', 'Eig05_EA(ri)', 'Eig06_AEA(bo)', 'Eig05_AEA(bo)', 'SM13_AEA(bo)', 'Eig06_AEA(dm)'] \n",
      "\u001b[1;46mCluster\u001b[0m 44 ['VE1_RG'] \n",
      "\u001b[1;46mCluster\u001b[0m 45 ['QZZm', 'QYYm'] \n",
      "\u001b[1;46mCluster\u001b[0m 46 ['RDF050m'] \n",
      "\u001b[1;46mCluster\u001b[0m 47 ['QZZp', 'Tv', 'Tp', 'Tm', 'Am', 'Ap', 'Au'] \n",
      "\u001b[1;46mCluster\u001b[0m 48 ['Mor01v', 'VE3_RG', 'Wap', 'Wi_Dt'] \n",
      "\u001b[1;46mCluster\u001b[0m 49 ['J_RG', 'ECC', 'Wi_G', 'Mor01e', 'S0K', 'VAR', 'QZZv', 'QZZs', 'QYYs', 'QYYv', 'ATSC5i', 'H_RG'] \n",
      "\u001b[1;46mCluster\u001b[0m 50 ['SpMax5_Bh(v)', 'SpMax5_Bh(p)', 'SpMax6_Bh(p)'] \n",
      "\u001b[1;46mCluster\u001b[0m 51 ['Mor01p', 'Sp', 'SpMax4_Bh(p)'] \n",
      "\u001b[1;46mCluster\u001b[0m 52 ['X4v', 'H2p', 'ATSC4p'] \n",
      "\u001b[1;46mCluster\u001b[0m 53 ['piID', 'piPC04', 'piPC03', 'SpMax1_Bh(e)', 'PW4', 'Chi_Dt', 'VR2_A'] \n",
      "\u001b[1;46mCluster\u001b[0m 54 ['MPC06', 'MPC05', 'X5'] \n",
      "\u001b[1;46mCluster\u001b[0m 55 ['Eta_beta'] \n",
      "\u001b[1;46mCluster\u001b[0m 56 ['RDF025p', 'nC', 'Mor05p', 'SpMin3_Bh(e)'] \n",
      "\u001b[1;46mCluster\u001b[0m 57 ['piPC05', 'PW5', 'WiA_Dt'] \n",
      "\u001b[1;46mCluster\u001b[0m 58 ['F03[C-C]'] \n",
      "\u001b[1;46mCluster\u001b[0m 59 ['SpMaxA_EA(ed)'] \n",
      "\u001b[1;46mCluster\u001b[0m 60 ['RDF035e', 'RDF035v', 'RDF035u'] \n",
      "\u001b[1;46mCluster\u001b[0m 61 ['Eig11_AEA(ed)', 'Eig10_AEA(ed)', 'Eig04_AEA(dm)'] \n",
      "\u001b[1;46mCluster\u001b[0m 62 ['Mor09v'] \n",
      "\u001b[1;46mCluster\u001b[0m 63 ['CIC0', 'ATS1s'] \n",
      "\u001b[1;46mCluster\u001b[0m 64 ['Ho_Dz(Z)', 'ITH', 'Eta_F', 'WiA_Dz(Z)', 'SM6_X', 'HTe', 'RDF015s', 'Se', 'AECC', 'ATSC4i', 'WiA_Dz(e)', 'MSD'] \n",
      "\u001b[1;46mCluster\u001b[0m 65 ['Eig04_AEA(ed)', 'AVS_Dt', 'H_Dz(v)', 'Eig04_AEA(bo)', 'Eig04_EA(ri)', 'H2v', 'HyWi_D', 'Chi0_EA(dm)', 'Chi1_EA(dm)', 'X1Kup', 'Mor05v', 'nSK', 'SpPos_A', 'X1Mad', 'Sv', 'X4', 'SM13_AEA(dm)', 'SCBO', 'HyWi_Dz(v)', 'Psi_i_1', 'VE1_B(m)', 'SNar', 'SM12_AEA(bo)', 'VE1_A'] \n",
      "\u001b[1;46mCluster\u001b[0m 66 ['VE3_G/D', 'VE1_G/D', 'WiA_G', 'SpDiam_G', 'Tu', 'Ts'] \n",
      "\u001b[1;46mCluster\u001b[0m 67 ['RTu', 'ATS2e', 'HIC'] \n",
      "\u001b[1;46mCluster\u001b[0m 68 ['H2u', 'H2e', 'HyWi_G', 'Mor05u', 'ON0V', 'ATSC1p', 'nAT', 'RDF015u', 'RDF015p', 'ATS1e', 'Mor02v'] \n",
      "\u001b[1;46mCluster\u001b[0m 69 ['Chi_G', 'Chi_D', 'IDE'] \n",
      "\u001b[1;46mCluster\u001b[0m 70 ['SpMax8_Bh(v)', 'Eig05_EA(dm)', 'SpMax7_Bh(v)'] \n",
      "\u001b[1;46mCluster\u001b[0m 71 ['MAXDP', 'WiA_B(s)', 'SM6_B(p)', 'WiA_RG', 'ATS2v', 'ATS3v', 'HyWi_B(p)', 'SM1_B(p)', 'SM3_B(p)'] \n",
      "\u001b[1;46mCluster\u001b[0m 72 ['SM05_EA(bo)', 'SM06_EA(bo)', 'SM6_B(v)'] \n",
      "\u001b[1;46mCluster\u001b[0m 73 ['SM08_AEA(bo)', 'SM11_AEA(dm)', 'SM10_AEA(bo)', 'SRW10', 'SM03_EA(bo)', 'SM6_L', 'SM04_AEA(bo)', 'VE2_B(m)', 'Eig07_AEA(ed)'] \n",
      "\u001b[1;46mCluster\u001b[0m 74 ['SpMax8_Bh(m)', 'Eig02_EA(ri)', 'AVS_H2', 'Eig03_EA(ri)', 'Eig03_AEA(ed)', 'SpMaxA_EA(bo)', 'Eig09_AEA(ed)', 'piPC01', 'piPC02', 'Eig08_AEA(ed)', 'TPC', 'SM6_B(e)', 'SM12_AEA(dm)', 'SpMaxA_EA', 'MWC02', 'SM11_AEA(bo)', 'SpMaxA_A', 'Xt', 'SM02_EA(ri)', 'SM04_EA(ri)', 'HyWi_B(v)'] \n",
      "\u001b[1;46mCluster\u001b[0m 75 ['VE1_B(s)', 'RGyr', 'Chi_RG', 'SpMaxA_EA(ri)', 'SP06', 'ATS1v'] \n",
      "\u001b[1;46mCluster\u001b[0m 76 ['SpMax_EA(ri)', 'SM05_EA(ri)', 'SpDiam_EA(ri)'] \n",
      "\u001b[1;46mCluster\u001b[0m 77 ['ATS4m', 'R4v', 'SpMax7_Bh(m)'] \n",
      "\u001b[1;46mCluster\u001b[0m 78 ['H1v', 'ChiA_D', 'SM12_AEA(ri)', 'ChiA_Dz(Z)', 'ChiA_Dz(v)', 'ChiA_Dz(e)', 'MPC03', 'R1v'] \n",
      "\u001b[1;46mCluster\u001b[0m 79 ['SpMax8_Bh(s)', 'WiA_B(v)', 'SpMax7_Bh(s)', 'VE2_B(s)', 'ChiA_Dz(p)', 'Eig04_EA(dm)', 'WiA_B(p)', 'Eig03_AEA(dm)'] \n",
      "\u001b[1;46mCluster\u001b[0m 80 ['SpMax6_Bh(s)'] \n",
      "\u001b[1;46mCluster\u001b[0m 81 ['SpMax5_Bh(e)', 'SpMax6_Bh(i)', 'SpMax6_Bh(e)'] \n",
      "\u001b[1;46mCluster\u001b[0m 82 ['ATS3e'] \n",
      "\u001b[1;46mCluster\u001b[0m 83 ['Chi_Dz(e)'] \n",
      "\u001b[1;46mCluster\u001b[0m 84 ['H1u', 'H1e', 'WiA_B(m)', 'Chi_Dz(Z)'] \n",
      "\u001b[1;46mCluster\u001b[0m 85 ['ATS4v', 'ATS4p', 'SpMax3_Bh(e)', 'SpMin2_Bh(e)', 'SpMax7_Bh(e)', 'SpMax3_Bh(v)', 'MPC04', 'SpMax8_Bh(e)'] \n",
      "\u001b[1;46mCluster\u001b[0m 86 ['ChiA_G', 'ChiA_G/D', 'SpMax2_Bh(p)', 'SpMax3_Bh(p)', 'SpMax2_Bh(v)', 'SpMax2_Bh(e)'] \n",
      "\u001b[1;46mCluster\u001b[0m 87 ['SpMax8_Bh(p)', 'SpMax7_Bh(p)'] \n",
      "\u001b[1;46mCluster\u001b[0m 88 ['Mor02i', 'Mor02e', 'Mor02u'] \n",
      "\u001b[1;46mCluster\u001b[0m 89 ['ATSC4e', 'ATSC4s'] \n",
      "\u001b[1;46mCluster\u001b[0m 90 ['H4e', 'H4u'] \n",
      "\u001b[1;46mCluster\u001b[0m 91 ['H1s', 'R1s'] \n",
      "\u001b[1;46mCluster\u001b[0m 92 ['Mor08v', 'Mor08p'] \n",
      "\u001b[1;46mCluster\u001b[0m 93 ['Mor07u', 'Mor07v', 'Mor07e', 'Eta_FL', 'Eta_F_A'] \n",
      "\u001b[1;46mCluster\u001b[0m 94 ['Mor07m'] \n",
      "\u001b[1;46mCluster\u001b[0m 95 ['IC5', 'TIC5'] \n",
      "\u001b[1;46mCluster\u001b[0m 96 ['ICR', 'DECC'] \n",
      "\u001b[1;46mCluster\u001b[0m 97 ['SPAN', 'TIC2', 'TIC3', 'TIC4'] \n",
      "\u001b[1;46mCluster\u001b[0m 98 ['L1s'] \n",
      "\u001b[1;46mCluster\u001b[0m 99 ['ATS5e', 'ATS5m', 'ATS5p', 'ATS5s', 'ATS5v', 'R5p', 'TDB05p', 'TDB05v'] \n",
      "\u001b[1;46mCluster\u001b[0m 100 ['SpMin3_Bh(p)', 'HGM', 'SpMin3_Bh(v)'] \n",
      "\u001b[1;46mCluster\u001b[0m 101 ['RDF025v', 'ON1V', 'SpMax4_Bh(v)'] \n",
      "\u001b[1;46mCluster\u001b[0m 102 ['RDF025u', 'RDF025i', 'SpMin4_Bh(p)', 'SpMax4_Bh(e)', 'SpMin4_Bh(v)'] \n",
      "\u001b[1;46mCluster\u001b[0m 103 ['L1u', 'L1v', 'QYYp', 'L1p'] \n",
      "\u001b[1;46mCluster\u001b[0m 104 ['L1m'] \n",
      "\u001b[1;46mCluster\u001b[0m 105 ['RDF050e', 'RDF050p', 'RDF050v', 'RDF050u', 'ATSC5p'] \n",
      "\u001b[1;46mCluster\u001b[0m 106 ['SpMin5_Bh(v)', 'SpMin4_Bh(e)'] \n",
      "\u001b[1;46mCluster\u001b[0m 107 ['SpMin5_Bh(p)'] \n",
      "\u001b[1;46mCluster\u001b[0m 108 ['ATSC5e', 'ATSC5s'] \n",
      "\u001b[1;46mCluster\u001b[0m 109 ['F04[C-C]', 'TDB06v', 'R6v', 'R6e', 'R6p', 'R6u', 'TDB06p', 'TDB06u', 'TDB06i', 'ATS6p', 'ATS6s', 'ATS6v', 'ATS6m', 'ATS6e'] \n",
      "\u001b[1;46mCluster\u001b[0m 110 ['Eig14_AEA(ed)', 'Eig15_AEA(ed)'] \n",
      "\u001b[1;46mCluster\u001b[0m 111 ['Mor04u'] \n",
      "\u001b[1;46mCluster\u001b[0m 112 ['Mor28s'] \n",
      "\u001b[1;46mCluster\u001b[0m 113 ['RDF060p', 'RDF060v'] \n",
      "\u001b[1;46mCluster\u001b[0m 114 ['ATSC6p', 'ATSC6s', 'ATSC6v', 'ATSC6e', 'RDF060u'] \n",
      "\u001b[1;46mCluster\u001b[0m 115 ['RDF050s', 'RDF060s', 'SpMin6_Bh(p)', 'RDF065m', 'RDF065p', 'RDF065u', 'RDF065s', 'DP15', 'RDF060m', 'SpMin6_Bh(v)', 'RDF055p', 'RDF055v', 'ATSC6i', 'T(F..F)'] \n",
      "\u001b[1;46mCluster\u001b[0m 116 ['F05[C-F]', 'DP13', 'RDF055u', 'RDF055e', 'GGI5'] \n",
      "\u001b[1;46mCluster\u001b[0m 117 ['Eig07_AEA(bo)'] \n",
      "\u001b[1;46mCluster\u001b[0m 118 ['Eig06_AEA(ri)'] \n",
      "\u001b[1;46mCluster\u001b[0m 119 ['R5e', 'R5v', 'R5u'] \n",
      "\u001b[1;46mCluster\u001b[0m 120 ['R5m', 'R5s', 'TDB05m'] \n",
      "\u001b[1;46mCluster\u001b[0m 121 ['RDF045u', 'RDF045v', 'RDF045s'] \n",
      "\u001b[1;46mCluster\u001b[0m 122 ['RDF045p'] \n",
      "\u001b[1;46mCluster\u001b[0m 123 ['Mor16s'] \n",
      "\u001b[1;46mCluster\u001b[0m 124 ['HATS6s', 'HATS6m', 'R6m', 'R6s', 'TDB06s', 'TDB06m'] \n",
      "\u001b[1;46mCluster\u001b[0m 125 ['H6m', 'H6e', 'H6u'] \n",
      "\u001b[1;46mCluster\u001b[0m 126 ['RDF055s', 'RDF055m'] \n",
      "\u001b[1;46mCluster\u001b[0m 127 ['B06[F-F]', 'F06[F-F]'] \n",
      "\u001b[1;46mCluster\u001b[0m 128 ['F05[F-F]'] \n",
      "\u001b[1;46mCluster\u001b[0m 129 ['H5m', 'H5u', 'H5p'] \n",
      "\u001b[1;46mCluster\u001b[0m 130 ['F02[F-F]', 'Mor09s', 'Mor09m', 'Mor32s'] \n",
      "\u001b[1;46mCluster\u001b[0m 131 ['Mor10s'] \n",
      "\u001b[1;46mCluster\u001b[0m 132 ['TI1_L'] \n",
      "\u001b[1;46mCluster\u001b[0m 133 ['RBN'] \n",
      "\u001b[1;46mCluster\u001b[0m 134 ['RBF'] \n",
      "\u001b[1;46mCluster\u001b[0m 135 ['TI2_L'] \n",
      "\u001b[1;46mCluster\u001b[0m 136 ['Eig07_AEA(dm)'] \n",
      "\u001b[1;46mCluster\u001b[0m 137 ['Mor10m'] \n",
      "\u001b[1;46mCluster\u001b[0m 138 ['RDF040e', 'RDF040u'] \n",
      "\u001b[1;46mCluster\u001b[0m 139 ['RDF040v'] \n",
      "\u001b[1;46mCluster\u001b[0m 140 ['Mor32m'] \n",
      "\u001b[1;46mCluster\u001b[0m 141 ['Mor32v'] \n",
      "\u001b[1;46mCluster\u001b[0m 142 ['RDF030u', 'RDF030s', 'RDF030e'] \n",
      "\u001b[1;46mCluster\u001b[0m 143 ['RDF030v'] \n",
      "\u001b[1;46mCluster\u001b[0m 144 ['nCsp3'] \n",
      "\u001b[1;46mCluster\u001b[0m 145 ['ALOGP2', 'ALOGP'] \n",
      "\u001b[1;46mCluster\u001b[0m 146 ['Mor03m'] \n",
      "\u001b[1;46mCluster\u001b[0m 147 ['LLS_01'] \n",
      "\u001b[1;46mCluster\u001b[0m 148 ['Eig06_EA(ri)', 'SM14_AEA(bo)', 'SM15_AEA(dm)'] \n",
      "\u001b[1;46mCluster\u001b[0m 149 ['Eig07_AEA(ri)'] \n",
      "\u001b[1;46mCluster\u001b[0m 150 ['Eig08_AEA(bo)'] \n",
      "\u001b[1;46mCluster\u001b[0m 151 ['Eig08_AEA(dm)'] \n",
      "\u001b[1;46mCluster\u001b[0m 152 ['SpMin5_Bh(e)', 'piPC08', 'SpMin5_Bh(i)', 'B04[C-O]'] \n",
      "\u001b[1;46mCluster\u001b[0m 153 ['ATS7v', 'ATS7m', 'ATSC8m', 'R7m+', 'H8m', 'RDF070u', 'F05[C-C]', 'HATS7v', 'F05[O-F]', 'B05[O-F]', 'RDF075u', 'RDF075p', 'ATSC7p', 'ATSC7v', 'MPC09', 'MPC08', 'JGI6', 'GGI7', 'GATS8m', 'TDB09m'] \n",
      "\u001b[1;46mCluster\u001b[0m 154 ['R7i+', 'R7p+', 'R7v+', 'B05[C-C]', 'R7u+'] \n",
      "\u001b[1;46mCluster\u001b[0m 155 ['ATS7s', 'ATS7e', 'B06[C-F]', 'HATS7p', 'HATS7u', 'HATS7e', 'ATSC7e', 'TDB07u', 'GATS7i'] \n",
      "\u001b[1;46mCluster\u001b[0m 156 ['Mor15i', 'Mor15u'] \n",
      "\u001b[1;46mCluster\u001b[0m 157 ['Mor15v'] \n",
      "\u001b[1;46mCluster\u001b[0m 158 ['Mor15p'] \n",
      "\u001b[1;46mCluster\u001b[0m 159 ['Mor13s'] \n",
      "\u001b[1;46mCluster\u001b[0m 160 ['Mor14s'] \n",
      "\u001b[1;46mCluster\u001b[0m 161 ['Mor14e', 'Mor14u'] \n",
      "\u001b[1;46mCluster\u001b[0m 162 ['Mor14m'] \n",
      "\u001b[1;46mCluster\u001b[0m 163 ['Mor14v'] \n",
      "\u001b[1;46mCluster\u001b[0m 164 ['Mor05m'] \n",
      "\u001b[1;46mCluster\u001b[0m 165 ['SpMAD_EA(ri)', 'SpMin1_Bh(p)'] \n",
      "\u001b[1;46mCluster\u001b[0m 166 ['SpMin3_Bh(m)'] \n",
      "\u001b[1;46mCluster\u001b[0m 167 ['Mor07p'] \n",
      "\u001b[1;46mCluster\u001b[0m 168 ['IAC', 'TIC1'] \n",
      "\u001b[1;46mCluster\u001b[0m 169 ['IC4'] \n",
      "\u001b[1;46mCluster\u001b[0m 170 ['ATS4e', 'ATS4s', 'R4i', 'R4u'] \n",
      "\u001b[1;46mCluster\u001b[0m 171 ['TDB02e', 'SpMin2_Bh(v)', 'SM6_RG', 'TDB01v', 'SpMin2_Bh(m)', 'TDB01e', 'R1u', 'R1i', 'ChiA_RG'] \n",
      "\u001b[1;46mCluster\u001b[0m 172 ['Ho_RG', 'EE_RG'] \n",
      "\u001b[1;46mCluster\u001b[0m 173 ['TDB02u', 'R1e'] \n",
      "\u001b[1;46mCluster\u001b[0m 174 ['SpMaxA_B(m)'] \n",
      "\u001b[1;46mCluster\u001b[0m 175 ['HATS2i', 'HATS2e', 'HATS2u'] \n",
      "\u001b[1;46mCluster\u001b[0m 176 ['HATS0i', 'HATS0e'] \n",
      "\u001b[1;46mCluster\u001b[0m 177 ['HATS0u'] \n",
      "\u001b[1;46mCluster\u001b[0m 178 ['SPAM'] \n",
      "\u001b[1;46mCluster\u001b[0m 179 ['PW3'] \n",
      "\u001b[1;46mCluster\u001b[0m 180 ['ATS3s'] \n",
      "\u001b[1;46mCluster\u001b[0m 181 ['Psi_i_1s', 'Psi_i_t'] \n",
      "\u001b[1;46mCluster\u001b[0m 182 ['SpMaxA_EA(dm)'] \n",
      "\u001b[1;46mCluster\u001b[0m 183 ['SpDiam_AEA(ed)'] \n",
      "\u001b[1;46mCluster\u001b[0m 184 ['R4p', 'TDB04p', 'TDB04r'] \n",
      "\u001b[1;46mCluster\u001b[0m 185 ['B02[C-C]', 'TDB04u', 'TDB04i', 'TDB04e'] \n",
      "\u001b[1;46mCluster\u001b[0m 186 ['JGI3'] \n",
      "\u001b[1;46mCluster\u001b[0m 187 ['VE2_RG', 'TDB01s'] \n",
      "\u001b[1;46mCluster\u001b[0m 188 ['VE2_G/D'] \n",
      "\u001b[1;46mCluster\u001b[0m 189 ['TDB02s'] \n",
      "\u001b[1;46mCluster\u001b[0m 190 ['Mor13v', 'Mor13p'] \n",
      "\u001b[1;46mCluster\u001b[0m 191 ['Mor27v'] \n",
      "\u001b[1;46mCluster\u001b[0m 192 ['Mor09p'] \n",
      "\u001b[1;46mCluster\u001b[0m 193 ['Eig06_EA(dm)'] \n",
      "\u001b[1;46mCluster\u001b[0m 194 ['IDDE'] \n",
      "\u001b[1;46mCluster\u001b[0m 195 ['IC3'] \n",
      "\u001b[1;46mCluster\u001b[0m 196 ['GATS5v'] \n",
      "\u001b[1;46mCluster\u001b[0m 197 ['GATS5i'] \n",
      "\u001b[1;46mCluster\u001b[0m 198 ['ATSC5v'] \n",
      "\u001b[1;46mCluster\u001b[0m 199 ['SpMin4_Bh(m)'] \n",
      "\u001b[1;46mCluster\u001b[0m 200 ['GATS6v'] \n",
      "\u001b[1;46mCluster\u001b[0m 201 ['SpMin2_Bh(s)'] \n",
      "\u001b[1;46mCluster\u001b[0m 202 ['R6m+', 'R6s+'] \n",
      "\u001b[1;46mCluster\u001b[0m 203 ['R6u+', 'R6v+', 'R6e+'] \n",
      "\u001b[1;46mCluster\u001b[0m 204 ['B05[C-F]', 'HATS6v', 'B04[C-C]', 'HATS6p', 'HATS6u', 'HATS6e'] \n",
      "\u001b[1;46mCluster\u001b[0m 205 ['GATS5p'] \n",
      "\u001b[1;46mCluster\u001b[0m 206 ['R6p+'] \n",
      "\u001b[1;46mCluster\u001b[0m 207 ['HATS5s', 'HATS5m', 'TDB05s'] \n",
      "\u001b[1;46mCluster\u001b[0m 208 ['B05[F-F]'] \n",
      "\u001b[1;46mCluster\u001b[0m 209 ['R5m+', 'R5s+'] \n",
      "\u001b[1;46mCluster\u001b[0m 210 ['CIC5'] \n",
      "\u001b[1;46mCluster\u001b[0m 211 ['X5A', 'HATS5p', 'HATS5u'] \n",
      "\u001b[1;46mCluster\u001b[0m 212 ['R5e+', 'R5u+', 'R5v+'] \n",
      "\u001b[1;46mCluster\u001b[0m 213 ['R5p+'] \n",
      "\u001b[1;46mCluster\u001b[0m 214 ['B03[C-C]', 'JGI4'] \n",
      "\u001b[1;46mCluster\u001b[0m 215 ['HATS5v', 'HATS5e', 'TDB05u', 'TDB05i'] \n",
      "\u001b[1;46mCluster\u001b[0m 216 ['LOC'] \n",
      "\u001b[1;46mCluster\u001b[0m 217 ['DLS_02'] \n",
      "\u001b[1;46mCluster\u001b[0m 218 ['Mor07s'] \n",
      "\u001b[1;46mCluster\u001b[0m 219 ['Mor18e'] \n",
      "\u001b[1;46mCluster\u001b[0m 220 ['H4p'] \n",
      "\u001b[1;46mCluster\u001b[0m 221 ['SpMin1_Bh(m)'] \n",
      "\u001b[1;46mCluster\u001b[0m 222 ['Eta_sh_p'] \n",
      "\u001b[1;46mCluster\u001b[0m 223 ['WiA_G/D', 'TDB02v', 'TDB01p'] \n",
      "\u001b[1;46mCluster\u001b[0m 224 ['HATS2v', 'HATS0v', 'TDB01m'] \n",
      "\u001b[1;46mCluster\u001b[0m 225 ['SpDiam_RG'] \n",
      "\u001b[1;46mCluster\u001b[0m 226 ['Chi_G/D'] \n",
      "\u001b[1;46mCluster\u001b[0m 227 ['Mor08m'] \n",
      "\u001b[1;46mCluster\u001b[0m 228 ['R2v+'] \n",
      "\u001b[1;46mCluster\u001b[0m 229 ['Mor27m'] \n",
      "\u001b[1;46mCluster\u001b[0m 230 ['E1m'] \n",
      "\u001b[1;46mCluster\u001b[0m 231 ['HATS1s'] \n",
      "\u001b[1;46mCluster\u001b[0m 232 ['AVS_B(p)'] \n",
      "\u001b[1;46mCluster\u001b[0m 233 ['PDI'] \n",
      "\u001b[1;46mCluster\u001b[0m 234 ['ChiA_B(p)'] \n",
      "\u001b[1;46mCluster\u001b[0m 235 ['AVS_B(v)'] \n",
      "\u001b[1;46mCluster\u001b[0m 236 ['SpMAD_EA(bo)'] \n",
      "\u001b[1;46mCluster\u001b[0m 237 ['H_Dz(p)'] \n",
      "\u001b[1;46mCluster\u001b[0m 238 ['SpMax1_Bh(p)'] \n",
      "\u001b[1;46mCluster\u001b[0m 239 ['MATS1i'] \n",
      "\u001b[1;46mCluster\u001b[0m 240 ['SM05_AEA(ri)', 'Eig10_AEA(ri)'] \n",
      "\u001b[1;46mCluster\u001b[0m 241 ['Eig10_EA(bo)', 'Eig10_EA(ri)', 'SM04_AEA(dm)'] \n",
      "\u001b[1;46mCluster\u001b[0m 242 ['Eig11_EA(bo)', 'Eig11_AEA(ri)', 'SM06_AEA(ri)', 'SM05_AEA(dm)'] \n",
      "\u001b[1;46mCluster\u001b[0m 243 ['Eig11_EA(dm)'] \n",
      "\u001b[1;46mCluster\u001b[0m 244 ['AVS_B(e)', 'AVS_B(i)'] \n",
      "\u001b[1;46mCluster\u001b[0m 245 ['SpDiam_EA(bo)'] \n",
      "\u001b[1;46mCluster\u001b[0m 246 ['X5v', 'piPC06', 'X4sol'] \n",
      "\u001b[1;46mCluster\u001b[0m 247 ['F02[C-C]', 'F01[C-C]_o', 'F01[C-C]'] \n",
      "\u001b[1;46mCluster\u001b[0m 248 ['SpMax1_Bh(v)'] \n",
      "\u001b[1;46mCluster\u001b[0m 249 ['Mor02p'] \n",
      "\u001b[1;46mCluster\u001b[0m 250 ['RDF035p'] \n",
      "\u001b[1;46mCluster\u001b[0m 251 ['X5sol', 'piPC07'] \n",
      "\u001b[1;46mCluster\u001b[0m 252 ['MPC07'] \n",
      "\u001b[1;46mCluster\u001b[0m 253 ['Vindex', 'GNar', 'SpPosA_H2'] \n",
      "\u001b[1;46mCluster\u001b[0m 254 ['HNar'] \n",
      "\u001b[1;46mCluster\u001b[0m 255 ['Mor20v'] \n",
      "\u001b[1;46mCluster\u001b[0m 256 ['SpMin1_Bh(v)', 'SpMin1_Bh(e)'] \n",
      "\u001b[1;46mCluster\u001b[0m 257 ['X5Av'] \n",
      "\u001b[1;46mCluster\u001b[0m 258 ['ATSC4v'] \n",
      "\u001b[1;46mCluster\u001b[0m 259 ['R3i+', 'R3e+'] \n",
      "\u001b[1;46mCluster\u001b[0m 260 ['R3u+'] \n",
      "\u001b[1;46mCluster\u001b[0m 261 ['X3A'] \n",
      "\u001b[1;46mCluster\u001b[0m 262 ['P_VSA_m_2'] \n",
      "\u001b[1;46mCluster\u001b[0m 263 ['P_VSA_e_2'] \n",
      "\u001b[1;46mCluster\u001b[0m 264 ['Mor27p'] \n",
      "\u001b[1;46mCluster\u001b[0m 265 ['SPH'] \n",
      "\u001b[1;46mCluster\u001b[0m 266 ['ATSC6m', 'GATS6e', 'GATS6m'] \n",
      "\u001b[1;46mCluster\u001b[0m 267 ['JGI5', 'GATS6i'] \n",
      "\u001b[1;46mCluster\u001b[0m 268 ['SpMin5_Bh(m)'] \n",
      "\u001b[1;46mCluster\u001b[0m 269 ['HATS3i', 'HATS3e', 'HATS3u'] \n",
      "\u001b[1;46mCluster\u001b[0m 270 ['Yindex'] \n",
      "\u001b[1;46mCluster\u001b[0m 271 ['Mor18u', 'Mor18v'] \n",
      "\u001b[1;46mCluster\u001b[0m 272 ['Mor25u', 'Mor25v'] \n",
      "\u001b[1;46mCluster\u001b[0m 273 ['Mor25e'] \n",
      "\u001b[1;46mCluster\u001b[0m 274 ['Chi_Dz(p)'] \n",
      "\u001b[1;46mCluster\u001b[0m 275 ['J_G'] \n",
      "\u001b[1;46mCluster\u001b[0m 276 ['GATS1v'] \n",
      "\u001b[1;46mCluster\u001b[0m 277 ['SpPosA_D/Dt', 'J_Dt'] \n",
      "\u001b[1;46mCluster\u001b[0m 278 ['J_Dz(Z)'] \n",
      "\u001b[1;46mCluster\u001b[0m 279 ['HATSe', 'H0e'] \n",
      "\u001b[1;46mCluster\u001b[0m 280 ['Mor29m'] \n",
      "\u001b[1;46mCluster\u001b[0m 281 ['J_Dz(e)', 'J_D'] \n",
      "\u001b[1;46mCluster\u001b[0m 282 ['JGT'] \n",
      "\u001b[1;46mCluster\u001b[0m 283 ['Eta_sh_x'] \n",
      "\u001b[1;46mCluster\u001b[0m 284 ['L3m', 'L3s'] \n",
      "\u001b[1;46mCluster\u001b[0m 285 ['SpMax_AEA(dm)'] \n",
      "\u001b[1;46mCluster\u001b[0m 286 ['SM02_EA(dm)'] \n",
      "\u001b[1;46mCluster\u001b[0m 287 ['Mor19s', 'Mor29s'] \n",
      "\u001b[1;46mCluster\u001b[0m 288 ['Mor30i', 'Mor30v', 'Mor30u'] \n",
      "\u001b[1;46mCluster\u001b[0m 289 ['Mor30m'] \n",
      "\u001b[1;46mCluster\u001b[0m 290 ['Mor30s'] \n",
      "\u001b[1;46mCluster\u001b[0m 291 ['C-013', 'F-083'] \n",
      "\u001b[1;46mCluster\u001b[0m 292 ['Mor22s', 'Mor23s'] \n",
      "\u001b[1;46mCluster\u001b[0m 293 ['Mor18m'] \n",
      "\u001b[1;46mCluster\u001b[0m 294 ['Mor18s'] \n",
      "\u001b[1;46mCluster\u001b[0m 295 ['RDF040s'] \n",
      "\u001b[1;46mCluster\u001b[0m 296 ['Mor31s'] \n",
      "\u001b[1;46mCluster\u001b[0m 297 ['RDF045m'] \n",
      "\u001b[1;46mCluster\u001b[0m 298 ['Mor04v'] \n",
      "\u001b[1;46mCluster\u001b[0m 299 ['RDF040m'] \n",
      "\u001b[1;46mCluster\u001b[0m 300 ['Mor04m'] \n",
      "\u001b[1;46mCluster\u001b[0m 301 ['Mor30p'] \n",
      "\u001b[1;46mCluster\u001b[0m 302 ['ATSC3p', 'ATSC2p'] \n",
      "\u001b[1;46mCluster\u001b[0m 303 ['X3v_o', 'X3v'] \n",
      "\u001b[1;46mCluster\u001b[0m 304 ['Mor03p'] \n",
      "\u001b[1;46mCluster\u001b[0m 305 ['AMR', 'X1sol'] \n",
      "\u001b[1;46mCluster\u001b[0m 306 ['SpMax3_Bh(m)'] \n",
      "\u001b[1;46mCluster\u001b[0m 307 ['SpMax4_Bh(m)'] \n",
      "\u001b[1;46mCluster\u001b[0m 308 ['X0sol'] \n",
      "\u001b[1;46mCluster\u001b[0m 309 ['ATS2p'] \n",
      "\u001b[1;46mCluster\u001b[0m 310 ['R1p'] \n",
      "\u001b[1;46mCluster\u001b[0m 311 ['ChiA_B(v)', 'SpMax_B(p)'] \n",
      "\u001b[1;46mCluster\u001b[0m 312 ['X3sol'] \n",
      "\u001b[1;46mCluster\u001b[0m 313 ['SpDiam_B(p)', 'SpMax_B(v)', 'SpMax_B(e)', 'SpMax_EA(bo)', 'SpDiam_B(v)'] \n",
      "\u001b[1;46mCluster\u001b[0m 314 ['ChiA_B(e)'] \n",
      "\u001b[1;46mCluster\u001b[0m 315 ['H1p', 'SpDiam_B(s)', 'ATS3p', 'ATS1p'] \n",
      "\u001b[1;46mCluster\u001b[0m 316 ['SpMax5_Bh(m)'] \n",
      "\u001b[1;46mCluster\u001b[0m 317 ['SpMax6_Bh(m)'] \n",
      "\u001b[1;46mCluster\u001b[0m 318 ['X2A'] \n",
      "\u001b[1;46mCluster\u001b[0m 319 ['SpDiam_AEA(dm)'] \n",
      "\u001b[1;46mCluster\u001b[0m 320 ['QXXp'] \n",
      "\u001b[1;46mCluster\u001b[0m 321 ['SM03_EA(ed)', 'SpDiam_EA', 'SpMax_AEA(bo)', 'SpMax_L', 'SpMax_AEA(ri)', 'SpDiam_L', 'SpDiam_EA(ed)'] \n",
      "\u001b[1;46mCluster\u001b[0m 322 ['SpMAD_L', 'X1A'] \n",
      "\u001b[1;46mCluster\u001b[0m 323 ['Eig02_AEA(dm)'] \n",
      "\u001b[1;46mCluster\u001b[0m 324 ['J_Dz(p)', 'J_Dz(v)'] \n",
      "\u001b[1;46mCluster\u001b[0m 325 ['X0v', 'X1v'] \n",
      "\u001b[1;46mCluster\u001b[0m 326 ['ZM2Mad', 'MW', 'SM1_B(m)'] \n"
     ]
    },
    {
     "name": "stdout",
     "output_type": "stream",
     "text": [
      "\u001b[1;46mCluster\u001b[0m 327 ['QXXm'] \n",
      "\u001b[1;46mCluster\u001b[0m 328 ['H1m', 'R1m'] \n",
      "\u001b[1;46mCluster\u001b[0m 329 ['SM1_Dz(Z)'] \n",
      "\u001b[1;46mCluster\u001b[0m 330 ['Mor12u', 'Mor12i'] \n",
      "\u001b[1;46mCluster\u001b[0m 331 ['JGI2'] \n",
      "\u001b[1;46mCluster\u001b[0m 332 ['SpMAD_AEA(dm)'] \n",
      "\u001b[1;46mCluster\u001b[0m 333 ['R3s'] \n",
      "\u001b[1;46mCluster\u001b[0m 334 ['SpMAD_AEA(ed)', 'SpMAD_EA(ed)', 'SpMAD_AEA(ri)', 'SpMAD_EA'] \n",
      "\u001b[1;46mCluster\u001b[0m 335 ['DLS_03'] \n",
      "\u001b[1;46mCluster\u001b[0m 336 ['PW2'] \n",
      "\u001b[1;46mCluster\u001b[0m 337 ['SpMAD_AEA(bo)'] \n",
      "\u001b[1;46mCluster\u001b[0m 338 ['ATS3m'] \n",
      "\u001b[1;46mCluster\u001b[0m 339 ['H3m'] \n",
      "\u001b[1;46mCluster\u001b[0m 340 ['RTu+'] \n",
      "\u001b[1;46mCluster\u001b[0m 341 ['R2e+'] \n",
      "\u001b[1;46mCluster\u001b[0m 342 ['Eig02_EA(dm)'] \n",
      "\u001b[1;46mCluster\u001b[0m 343 ['GATS4p', 'GATS4v'] \n",
      "\u001b[1;46mCluster\u001b[0m 344 ['Psi_e_0'] \n",
      "\u001b[1;46mCluster\u001b[0m 345 ['RDF040p'] \n",
      "\u001b[1;46mCluster\u001b[0m 346 ['H3p'] \n",
      "\u001b[1;46mCluster\u001b[0m 347 ['HATS0s'] \n",
      "\u001b[1;46mCluster\u001b[0m 348 ['HATS2s'] \n",
      "\u001b[1;46mCluster\u001b[0m 349 ['Psi_e_t'] \n",
      "\u001b[1;46mCluster\u001b[0m 350 ['HATS1v'] \n",
      "\u001b[1;46mCluster\u001b[0m 351 ['L2p', 'L2v'] \n",
      "\u001b[1;46mCluster\u001b[0m 352 ['L2u'] \n",
      "\u001b[1;46mCluster\u001b[0m 353 ['L2s'] \n",
      "\u001b[1;46mCluster\u001b[0m 354 ['L2m'] \n",
      "\u001b[1;46mCluster\u001b[0m 355 ['BIC1', 'SIC1'] \n",
      "\u001b[1;46mCluster\u001b[0m 356 ['CIC2'] \n",
      "\u001b[1;46mCluster\u001b[0m 357 ['Mor13u'] \n",
      "\u001b[1;46mCluster\u001b[0m 358 ['Mor12v'] \n",
      "\u001b[1;46mCluster\u001b[0m 359 ['TDB04m'] \n",
      "\u001b[1;46mCluster\u001b[0m 360 ['HATS4v'] \n",
      "\u001b[1;46mCluster\u001b[0m 361 ['HATS4s', 'R4s+', 'TDB04s'] \n",
      "\u001b[1;46mCluster\u001b[0m 362 ['ChiA_X'] \n",
      "\u001b[1;46mCluster\u001b[0m 363 ['SpMax2_Bh(s)'] \n",
      "\u001b[1;46mCluster\u001b[0m 364 ['SpMax4_Bh(s)'] \n",
      "\u001b[1;46mCluster\u001b[0m 365 ['SpMax5_Bh(s)'] \n",
      "\u001b[1;46mCluster\u001b[0m 366 ['Eta_betaS_A'] \n",
      "\u001b[1;46mCluster\u001b[0m 367 ['B04[F-F]', 'R4s'] \n",
      "\u001b[1;46mCluster\u001b[0m 368 ['R4m'] \n",
      "\u001b[1;46mCluster\u001b[0m 369 ['Eig13_AEA(bo)', 'Eig12_AEA(bo)'] \n",
      "\u001b[1;46mCluster\u001b[0m 370 ['SM07_AEA(ri)', 'Eig12_EA(bo)', 'SM06_AEA(dm)'] \n",
      "\u001b[1;46mCluster\u001b[0m 371 ['Eig13_EA(bo)', 'SM08_AEA(ri)', 'Eig13_AEA(ri)', 'Eig13_EA(dm)', 'SM07_AEA(dm)'] \n",
      "\u001b[1;46mCluster\u001b[0m 372 ['Eig12_EA(dm)'] \n",
      "\u001b[1;46mCluster\u001b[0m 373 ['Eig15_EA(dm)', 'SM10_AEA(ri)'] \n",
      "\u001b[1;46mCluster\u001b[0m 374 ['SM09_AEA(ri)', 'Eig14_EA(dm)', 'Eig14_EA(bo)'] \n",
      "\u001b[1;46mCluster\u001b[0m 375 ['Mor27s'] \n",
      "\u001b[1;46mCluster\u001b[0m 376 ['C-012', 'F-082', 'nCs'] \n",
      "\u001b[1;46mCluster\u001b[0m 377 ['nCR2X2'] \n",
      "\u001b[1;46mCluster\u001b[0m 378 ['MLOGP2', 'MLOGP', 'MlogP_o'] \n",
      "\u001b[1;46mCluster\u001b[0m 379 ['Mor06p', 'Mor06v'] \n",
      "\u001b[1;46mCluster\u001b[0m 380 ['R3v'] \n",
      "\u001b[1;46mCluster\u001b[0m 381 ['ATS2m', 'SM2_B(m)'] \n",
      "\u001b[1;46mCluster\u001b[0m 382 ['ZM1Mad', 'Eta_C_A'] \n",
      "\u001b[1;46mCluster\u001b[0m 383 ['X2v'] \n",
      "\u001b[1;46mCluster\u001b[0m 384 ['RDF030p'] \n",
      "\u001b[1;46mCluster\u001b[0m 385 ['X2sol'] \n",
      "\u001b[1;46mCluster\u001b[0m 386 ['HTp'] \n",
      "\u001b[1;46mCluster\u001b[0m 387 ['RTp'] \n",
      "\u001b[1;46mCluster\u001b[0m 388 ['HATSv', 'H0v'] \n",
      "\u001b[1;46mCluster\u001b[0m 389 ['R3m'] \n",
      "\u001b[1;46mCluster\u001b[0m 390 ['SM5_B(m)', 'SpDiam_B(m)', 'EE_B(m)'] \n",
      "\u001b[1;46mCluster\u001b[0m 391 ['SpMax2_Bh(m)'] \n",
      "\u001b[1;46mCluster\u001b[0m 392 ['ChiA_B(m)', 'SpPosA_G/D'] \n",
      "\u001b[1;46mCluster\u001b[0m 393 ['Mv'] \n",
      "\u001b[1;46mCluster\u001b[0m 394 ['SM3_B(m)', 'HTm'] \n",
      "\u001b[1;46mCluster\u001b[0m 395 ['RTm', 'R2v'] \n",
      "\u001b[1;46mCluster\u001b[0m 396 ['RDF030m'] \n",
      "\u001b[1;46mCluster\u001b[0m 397 ['HATS1m'] \n",
      "\u001b[1;46mCluster\u001b[0m 398 ['R1m+'] \n",
      "\u001b[1;46mCluster\u001b[0m 399 ['R1p+'] \n",
      "\u001b[1;46mCluster\u001b[0m 400 ['DISPp'] \n",
      "\u001b[1;46mCluster\u001b[0m 401 ['Dm'] \n",
      "\u001b[1;46mCluster\u001b[0m 402 ['Dp'] \n",
      "\u001b[1;46mCluster\u001b[0m 403 ['ATSC3m'] \n",
      "\u001b[1;46mCluster\u001b[0m 404 ['R2p'] \n",
      "\u001b[1;46mCluster\u001b[0m 405 ['HATS3v', 'HATS3p'] \n",
      "\u001b[1;46mCluster\u001b[0m 406 ['HATS3m', 'TDB03m', 'R3m+'] \n",
      "\u001b[1;46mCluster\u001b[0m 407 ['R3p+'] \n",
      "\u001b[1;46mCluster\u001b[0m 408 ['P_VSA_LogP_6'] \n",
      "\u001b[1;46mCluster\u001b[0m 409 ['R3v+'] \n",
      "\u001b[1;46mCluster\u001b[0m 410 ['RDF020v', 'RDF020p'] \n",
      "\u001b[1;46mCluster\u001b[0m 411 ['nBR', 'ATSC2m', 'B02[C-Br]', 'SsBr', 'RDF020m', 'F02[C-Br]', 'P_VSA_m_5', 'P_VSA_s_5', 'F03[F-Br]'] \n",
      "\u001b[1;46mCluster\u001b[0m 412 ['P_VSA_e_3'] \n",
      "\u001b[1;46mCluster\u001b[0m 413 ['SpMAD_B(m)'] \n",
      "\u001b[1;46mCluster\u001b[0m 414 ['SpMax_B(m)', 'ATSC1m', 'HATSm', 'R2m', 'H0m'] \n",
      "\u001b[1;46mCluster\u001b[0m 415 ['AVS_B(m)'] \n",
      "\u001b[1;46mCluster\u001b[0m 416 ['AMW'] \n",
      "\u001b[1;46mCluster\u001b[0m 417 ['E1p'] \n",
      "\u001b[1;46mCluster\u001b[0m 418 ['Eta_L_A', 'Eta_FL_A'] \n",
      "\u001b[1;46mCluster\u001b[0m 419 ['HATS2m', 'TDB02m', 'HATS0m', 'HATS0p', 'SpPosA_B(m)'] \n",
      "\u001b[1;46mCluster\u001b[0m 420 ['B01[C-Br]'] \n",
      "\u001b[1;46mCluster\u001b[0m 421 ['RTv+', 'Eta_alpha_A', 'TDB02p', 'BLI', 'X0Av'] \n",
      "\u001b[1;46mCluster\u001b[0m 422 ['HATSp', 'H0p'] \n",
      "\u001b[1;46mCluster\u001b[0m 423 ['HATS2p', 'P_VSA_MR_8', 'R2p+', 'R2m+', 'RTp+', 'RTm+', 'X2Av'] \n",
      "\u001b[1;46mCluster\u001b[0m 424 ['X3Av'] \n",
      "\u001b[1;46mCluster\u001b[0m 425 ['SpPosA_B(v)'] \n",
      "\u001b[1;46mCluster\u001b[0m 426 ['MATS1p'] \n",
      "\u001b[1;46mCluster\u001b[0m 427 ['F03[F-Cl]', 'nCL', 'B03[F-Cl]', 'B01[C-Cl]'] \n",
      "\u001b[1;46mCluster\u001b[0m 428 ['Mor06m'] \n",
      "\u001b[1;46mCluster\u001b[0m 429 ['TDB03v'] \n",
      "\u001b[1;46mCluster\u001b[0m 430 ['TDB03r'] \n",
      "\u001b[1;46mCluster\u001b[0m 431 ['P_VSA_v_3'] \n",
      "\u001b[1;46mCluster\u001b[0m 432 ['TDB03p'] \n",
      "\u001b[1;46mCluster\u001b[0m 433 ['GATS1p', 'Mp'] \n",
      "\u001b[1;46mCluster\u001b[0m 434 ['SpMaxA_G/D'] \n",
      "\u001b[1;46mCluster\u001b[0m 435 ['nHM'] \n",
      "\u001b[1;46mCluster\u001b[0m 436 ['SpPosA_B(p)'] \n",
      "\u001b[1;46mCluster\u001b[0m 437 ['Mor20u', 'Mor20e'] \n",
      "\u001b[1;46mCluster\u001b[0m 438 ['Mor20p'] \n",
      "\u001b[1;46mCluster\u001b[0m 439 ['JGI1'] \n",
      "\u001b[1;46mCluster\u001b[0m 440 ['Eta_betaP', 'Eta_beta_A', 'Uc', 'Ui'] \n",
      "\u001b[1;46mCluster\u001b[0m 441 ['SpMAD_B(v)'] \n",
      "\u001b[1;46mCluster\u001b[0m 442 ['SpPosA_A', 'SpMAD_B(e)'] \n",
      "\u001b[1;46mCluster\u001b[0m 443 ['C%'] \n",
      "\u001b[1;46mCluster\u001b[0m 444 ['D/Dtr06', 'nCIC', 'nR06', 'Xindex', 'MCD'] \n",
      "\u001b[1;46mCluster\u001b[0m 445 ['P_VSA_MR_6', 'PCR', 'nBM', 'Eta_betaP_A', 'nAB', 'nCsp2'] \n",
      "\u001b[1;46mCluster\u001b[0m 446 ['nCbH', 'SaaCH', 'SpMin6_Bh(m)', 'CATS2D_01_LL'] \n",
      "\u001b[1;46mCluster\u001b[0m 447 ['Mor18p'] \n",
      "\u001b[1;46mCluster\u001b[0m 448 ['P_VSA_s_4'] \n",
      "\u001b[1;46mCluster\u001b[0m 449 ['SpMin3_Bh(s)'] \n",
      "\u001b[1;46mCluster\u001b[0m 450 ['Mor25p'] \n",
      "\u001b[1;46mCluster\u001b[0m 451 ['Mor23p'] \n",
      "\u001b[1;46mCluster\u001b[0m 452 ['Dv'] \n",
      "\u001b[1;46mCluster\u001b[0m 453 ['HATS3s', 'TDB03s'] \n",
      "\u001b[1;46mCluster\u001b[0m 454 ['R3s+'] \n",
      "\u001b[1;46mCluster\u001b[0m 455 ['P_VSA_s_2'] \n",
      "\u001b[1;46mCluster\u001b[0m 456 ['ATSC2v'] \n",
      "\u001b[1;46mCluster\u001b[0m 457 ['ATSC3v'] \n",
      "\u001b[1;46mCluster\u001b[0m 458 ['SpMin1_Bh(s)'] \n",
      "\u001b[1;46mCluster\u001b[0m 459 ['ATSC1v'] \n",
      "\u001b[1;46mCluster\u001b[0m 460 ['Eig10_AEA(bo)'] \n",
      "\u001b[1;46mCluster\u001b[0m 461 ['Eig11_AEA(dm)'] \n",
      "\u001b[1;46mCluster\u001b[0m 462 ['Mor20m'] \n",
      "\u001b[1;46mCluster\u001b[0m 463 ['MATS1e'] \n",
      "\u001b[1;46mCluster\u001b[0m 464 ['MATS1s'] \n",
      "\u001b[1;46mCluster\u001b[0m 465 ['Mor21p'] \n",
      "\u001b[1;46mCluster\u001b[0m 466 ['E2s'] \n",
      "\u001b[1;46mCluster\u001b[0m 467 ['X4Av'] \n",
      "\u001b[1;46mCluster\u001b[0m 468 ['ATSC4m'] \n",
      "\u001b[1;46mCluster\u001b[0m 469 ['Mor06u'] \n",
      "\u001b[1;46mCluster\u001b[0m 470 ['Mor06e'] \n",
      "\u001b[1;46mCluster\u001b[0m 471 ['LLS_02'] \n",
      "\u001b[1;46mCluster\u001b[0m 472 ['RDF010m', 'RDF010s'] \n",
      "\u001b[1;46mCluster\u001b[0m 473 ['X%'] \n",
      "\u001b[1;46mCluster\u001b[0m 474 ['SpPosA_RG'] \n",
      "\u001b[1;46mCluster\u001b[0m 475 ['MATS2s', 'MATS2e', 'MATS2i'] \n",
      "\u001b[1;46mCluster\u001b[0m 476 ['DISPe', 'DISPs'] \n",
      "\u001b[1;46mCluster\u001b[0m 477 ['nH', 'RDF010u', 'P_VSA_m_1'] \n",
      "\u001b[1;46mCluster\u001b[0m 478 ['H-047'] \n",
      "\u001b[1;46mCluster\u001b[0m 479 ['HATSs', 'H0s'] \n",
      "\u001b[1;46mCluster\u001b[0m 480 ['SpPosA_B(e)', 'SpPosA_B(i)'] \n",
      "\u001b[1;46mCluster\u001b[0m 481 ['GATS1m'] \n",
      "\u001b[1;46mCluster\u001b[0m 482 ['GATS2s', 'GATS2e'] \n",
      "\u001b[1;46mCluster\u001b[0m 483 ['B03[F-F]', 'GATS2i'] \n",
      "\u001b[1;46mCluster\u001b[0m 484 ['P_VSA_LogP_7'] \n",
      "\u001b[1;46mCluster\u001b[0m 485 ['Mor19v'] \n",
      "\u001b[1;46mCluster\u001b[0m 486 ['Mor19p'] \n",
      "\u001b[1;46mCluster\u001b[0m 487 ['DISPm', 'DISPv'] \n",
      "\u001b[1;46mCluster\u001b[0m 488 ['DISPi'] \n",
      "\u001b[1;46mCluster\u001b[0m 489 ['AAC'] \n",
      "\u001b[1;46mCluster\u001b[0m 490 ['Mi', 'AVS_B(s)'] \n",
      "\u001b[1;46mCluster\u001b[0m 491 ['ChiA_B(s)'] \n",
      "\u001b[1;46mCluster\u001b[0m 492 ['Psi_i_A'] \n",
      "\u001b[1;46mCluster\u001b[0m 493 ['GATS1i'] \n",
      "\u001b[1;46mCluster\u001b[0m 494 ['GATS1s', 'GATS1e', 'Me'] \n",
      "\u001b[1;46mCluster\u001b[0m 495 ['H%'] \n",
      "\u001b[1;46mCluster\u001b[0m 496 ['R3i', 'R3e'] \n",
      "\u001b[1;46mCluster\u001b[0m 497 ['R3u'] \n",
      "\u001b[1;46mCluster\u001b[0m 498 ['L3v', 'L3u'] \n",
      "\u001b[1;46mCluster\u001b[0m 499 ['E3v'] \n",
      "\u001b[1;46mCluster\u001b[0m 500 ['L3p'] \n",
      "\u001b[1;46mCluster\u001b[0m 501 ['VR2_RG'] \n",
      "\u001b[1;46mCluster\u001b[0m 502 ['T(N..F)', 'F01[C-N]', 'F02[C-N]'] \n",
      "\u001b[1;46mCluster\u001b[0m 503 ['B03[N-F]'] \n",
      "\u001b[1;46mCluster\u001b[0m 504 ['F03[N-F]'] \n",
      "\u001b[1;46mCluster\u001b[0m 505 ['P_VSA_MR_5'] \n",
      "\u001b[1;46mCluster\u001b[0m 506 ['StsC', 'B04[N-F]', 'nTB'] \n",
      "\u001b[1;46mCluster\u001b[0m 507 ['F05[N-F]', 'B04[C-N]', 'B03[C-N]', 'F03[C-N]'] \n",
      "\u001b[1;46mCluster\u001b[0m 508 ['nN', 'B01[C-N]', 'N%'] \n",
      "\u001b[1;46mCluster\u001b[0m 509 ['R1s+'] \n",
      "\u001b[1;46mCluster\u001b[0m 510 ['F02[F-Cl]', 'B02[F-Cl]'] \n",
      "\u001b[1;46mCluster\u001b[0m 511 ['Cl-088'] \n",
      "\u001b[1;46mCluster\u001b[0m 512 ['GATS4m'] \n",
      "\u001b[1;46mCluster\u001b[0m 513 ['GATS4e'] \n",
      "\u001b[1;46mCluster\u001b[0m 514 ['B02[F-Br]', 'F02[F-Br]'] \n",
      "\u001b[1;46mCluster\u001b[0m 515 ['B03[Cl-Br]', 'B03[Br-Br]'] \n",
      "\u001b[1;46mCluster\u001b[0m 516 ['T(Br..Br)', 'B02[Cl-Br]', 'F02[Cl-Br]', 'T(Cl..Br)', 'Br-093'] \n",
      "\u001b[1;46mCluster\u001b[0m 517 ['Mor04p'] \n",
      "\u001b[1;46mCluster\u001b[0m 518 ['Mor11m'] \n",
      "\u001b[1;46mCluster\u001b[0m 519 ['Mor26m'] \n",
      "\u001b[1;46mCluster\u001b[0m 520 ['Br-092', 'B02[Br-Br]'] \n",
      "\u001b[1;46mCluster\u001b[0m 521 ['P_VSA_i_2'] \n",
      "\u001b[1;46mCluster\u001b[0m 522 ['C-020', 'nR=Cp', 'nR=CX2'] \n",
      "\u001b[1;46mCluster\u001b[0m 523 ['H0u'] \n",
      "\u001b[1;46mCluster\u001b[0m 524 ['GATS3i'] \n",
      "\u001b[1;46mCluster\u001b[0m 525 ['Br-095'] \n",
      "\u001b[1;46mCluster\u001b[0m 526 ['F04[F-Cl]', 'F03[C-Cl]', 'B04[F-Cl]', 'B03[C-Cl]'] \n",
      "\u001b[1;46mCluster\u001b[0m 527 ['F03[Cl-Cl]', 'B03[Cl-Cl]'] \n",
      "\u001b[1;46mCluster\u001b[0m 528 ['T(F..Cl)', 'F02[C-Cl]', 'P_VSA_MR_7', 'T(Cl..Cl)'] \n",
      "\u001b[1;46mCluster\u001b[0m 529 ['C-019', 'Cl-089', 'nR=Cs'] \n",
      "\u001b[1;46mCluster\u001b[0m 530 ['nCXr=', 'nCrs'] \n",
      "\u001b[1;46mCluster\u001b[0m 531 ['MATS4p', 'MATS4v'] \n",
      "\u001b[1;46mCluster\u001b[0m 532 ['P_VSA_LogP_8'] \n",
      "\u001b[1;46mCluster\u001b[0m 533 ['HATS1p'] \n",
      "\u001b[1;46mCluster\u001b[0m 534 ['R3p'] \n",
      "\u001b[1;46mCluster\u001b[0m 535 ['MATS3v', 'MATS3p'] \n",
      "\u001b[1;46mCluster\u001b[0m 536 ['MATS3i'] \n",
      "\u001b[1;46mCluster\u001b[0m 537 ['GATS2v'] \n",
      "\u001b[1;46mCluster\u001b[0m 538 ['E2p'] \n",
      "\u001b[1;46mCluster\u001b[0m 539 ['GATS2p'] \n",
      "\u001b[1;46mCluster\u001b[0m 540 ['GATS3p', 'GATS3v'] \n",
      "\u001b[1;46mCluster\u001b[0m 541 ['MATS2v'] \n",
      "\u001b[1;46mCluster\u001b[0m 542 ['MATS2p'] \n",
      "\u001b[1;46mCluster\u001b[0m 543 ['E2i'] \n",
      "\u001b[1;46mCluster\u001b[0m 544 ['P_VSA_i_3'] \n",
      "\u001b[1;46mCluster\u001b[0m 545 ['P2e', 'P2u', 'P2v'] \n",
      "\u001b[1;46mCluster\u001b[0m 546 ['P2p'] \n",
      "\u001b[1;46mCluster\u001b[0m 547 ['P2s'] \n",
      "\u001b[1;46mCluster\u001b[0m 548 ['G2v', 'G2p', 'G2m'] \n",
      "\u001b[1;46mCluster\u001b[0m 549 ['G2s', 'G2u'] \n",
      "\u001b[1;46mCluster\u001b[0m 550 ['G1e', 'G1u'] \n",
      "\u001b[1;46mCluster\u001b[0m 551 ['Gm', 'G1m', 'G1p'] \n",
      "\u001b[1;46mCluster\u001b[0m 552 ['Mor19m'] \n",
      "\u001b[1;46mCluster\u001b[0m 553 ['Mor19e'] \n",
      "\u001b[1;46mCluster\u001b[0m 554 ['PJI3'] \n",
      "\u001b[1;46mCluster\u001b[0m 555 ['G3u', 'G3p', 'G3s', 'G3v', 'G3m'] \n",
      "\u001b[1;46mCluster\u001b[0m 556 ['Ds'] \n",
      "\u001b[1;46mCluster\u001b[0m 557 ['MATS2m', 'GATS2m'] \n",
      "\u001b[1;46mCluster\u001b[0m 558 ['MATS5m'] \n",
      "\u001b[1;46mCluster\u001b[0m 559 ['MATS5e'] \n",
      "\u001b[1;46mCluster\u001b[0m 560 ['MATS5i'] \n",
      "\u001b[1;46mCluster\u001b[0m 561 ['IC1'] \n",
      "\u001b[1;46mCluster\u001b[0m 562 ['ISH'] \n",
      "\u001b[1;46mCluster\u001b[0m 563 ['Mor19u'] \n",
      "\u001b[1;46mCluster\u001b[0m 564 ['CIC3'] \n",
      "\u001b[1;46mCluster\u001b[0m 565 ['E2m'] \n",
      "\u001b[1;46mCluster\u001b[0m 566 ['E2v'] \n",
      "\u001b[1;46mCluster\u001b[0m 567 ['E3p'] \n",
      "\u001b[1;46mCluster\u001b[0m 568 ['P1p', 'Kp'] \n",
      "\u001b[1;46mCluster\u001b[0m 569 ['P1m', 'L/Bw', 'ASP', 'Km'] \n",
      "\u001b[1;46mCluster\u001b[0m 570 ['MEcc'] \n",
      "\u001b[1;46mCluster\u001b[0m 571 ['P2m'] \n",
      "\u001b[1;46mCluster\u001b[0m 572 ['SdssC', 'NdssC'] \n",
      "\u001b[1;46mCluster\u001b[0m 573 ['nDB'] \n",
      "\u001b[1;46mCluster\u001b[0m 574 ['nCp'] \n",
      "\u001b[1;46mCluster\u001b[0m 575 ['RDF020e', 'RDF020u'] \n",
      "\u001b[1;46mCluster\u001b[0m 576 ['C-009', 'NsssCH', 'SsssCH', 'H-04_o', 'H-048', 'nCHRX2'] \n",
      "\u001b[1;46mCluster\u001b[0m 577 ['Mor28v'] \n",
      "\u001b[1;46mCluster\u001b[0m 578 ['Mor28p'] \n",
      "\u001b[1;46mCluster\u001b[0m 579 ['F02[Cl-Cl]', 'Cl-087', 'B02[Cl-Cl]'] \n",
      "\u001b[1;46mCluster\u001b[0m 580 ['MATS3m'] \n",
      "\u001b[1;46mCluster\u001b[0m 581 ['GATS3m'] \n",
      "\u001b[1;46mCluster\u001b[0m 582 ['MATS7v'] \n",
      "\u001b[1;46mCluster\u001b[0m 583 ['P_VSA_MR_4'] \n",
      "\u001b[1;46mCluster\u001b[0m 584 ['SpMAD_B(s)'] \n",
      "\u001b[1;46mCluster\u001b[0m 585 ['R1i+', 'R1u+', 'R1e+'] \n",
      "\u001b[1;46mCluster\u001b[0m 586 ['nHDon'] \n",
      "\u001b[1;46mCluster\u001b[0m 587 ['Hy'] \n",
      "\u001b[1;46mCluster\u001b[0m 588 ['nHBonds', 'nOHp'] \n",
      "\u001b[1;46mCluster\u001b[0m 589 ['SAdon', 'nROH'] \n",
      "\u001b[1;46mCluster\u001b[0m 590 ['O-056'] \n",
      "\u001b[1;46mCluster\u001b[0m 591 ['DLS_04'] \n",
      "\u001b[1;46mCluster\u001b[0m 592 ['MATS4e', 'MATS4s'] \n",
      "\u001b[1;46mCluster\u001b[0m 593 ['MATS4m'] \n",
      "\u001b[1;46mCluster\u001b[0m 594 ['C-006', 'SssCH2', 'NssCH2'] \n",
      "\u001b[1;46mCluster\u001b[0m 595 ['nRNH2', 'P_VSA_LogP_2'] \n",
      "\u001b[1;46mCluster\u001b[0m 596 ['C-002'] \n",
      "\u001b[1;46mCluster\u001b[0m 597 ['Mor17e', 'Mor17u', 'Mor17v'] \n",
      "\u001b[1;46mCluster\u001b[0m 598 ['Mor17p'] \n",
      "\u001b[1;46mCluster\u001b[0m 599 ['SsNH2', 'CATS2D_02_DL'] \n",
      "\u001b[1;46mCluster\u001b[0m 600 ['P_VSA_LogP_3'] \n",
      "\u001b[1;46mCluster\u001b[0m 601 ['Mor21m'] \n",
      "\u001b[1;46mCluster\u001b[0m 602 ['Mor22m'] \n",
      "\u001b[1;46mCluster\u001b[0m 603 ['Mor22e', 'Mor22u'] \n",
      "\u001b[1;46mCluster\u001b[0m 604 ['Mor22v'] \n",
      "\u001b[1;46mCluster\u001b[0m 605 ['Mor22p'] \n",
      "\u001b[1;46mCluster\u001b[0m 606 ['MATS3s', 'MATS3e'] \n",
      "\u001b[1;46mCluster\u001b[0m 607 ['GATS3s', 'GATS3e'] \n",
      "\u001b[1;46mCluster\u001b[0m 608 ['nRCOOH'] \n",
      "\u001b[1;46mCluster\u001b[0m 609 ['B02[O-O]'] \n",
      "\u001b[1;46mCluster\u001b[0m 610 ['CATS2D_02_AA', 'CATS2D_03_AL'] \n",
      "\u001b[1;46mCluster\u001b[0m 611 ['CATS2D_02_AL'] \n",
      "\u001b[1;46mCluster\u001b[0m 612 ['CATS2D_04_LL'] \n",
      "\u001b[1;46mCluster\u001b[0m 613 ['C-001', 'P_VSA_LogP_1', 'NsCH3'] \n",
      "\u001b[1;46mCluster\u001b[0m 614 ['H-053'] \n",
      "\u001b[1;46mCluster\u001b[0m 615 ['SsCH3'] \n",
      "\u001b[1;46mCluster\u001b[0m 616 ['MATS6s', 'MATS6m', 'MATS6e'] \n",
      "\u001b[1;46mCluster\u001b[0m 617 ['MATS6p'] \n",
      "\u001b[1;46mCluster\u001b[0m 618 ['MATS6v', 'MATS6i'] \n",
      "\u001b[1;46mCluster\u001b[0m 619 ['MATS7i', 'MATS7m', 'MATS7e'] \n",
      "\u001b[1;46mCluster\u001b[0m 620 ['F05[F-Cl]', 'B05[F-Cl]', 'F04[C-Cl]', 'B04[C-Cl]'] \n",
      "\u001b[1;46mCluster\u001b[0m 621 ['C-016', 'SdsCH'] \n",
      "\u001b[1;46mCluster\u001b[0m 622 ['Eig14_AEA(dm)'] \n",
      "\u001b[1;46mCluster\u001b[0m 623 ['Mor17s'] \n",
      "\u001b[1;46mCluster\u001b[0m 624 ['Mor24s'] \n",
      "\u001b[1;46mCluster\u001b[0m 625 ['Mor13m'] \n",
      "\u001b[1;46mCluster\u001b[0m 626 ['Mor17m'] \n",
      "\u001b[1;46mCluster\u001b[0m 627 ['F03[O-Cl]', 'T(O..Cl)', 'B03[O-Cl]'] \n",
      "\u001b[1;46mCluster\u001b[0m 628 ['C-010'] \n",
      "\u001b[1;46mCluster\u001b[0m 629 ['C-008', 'Cl-086'] \n",
      "\u001b[1;46mCluster\u001b[0m 630 ['Psi_i_0d'] \n"
     ]
    },
    {
     "name": "stdout",
     "output_type": "stream",
     "text": [
      "\u001b[1;46mCluster\u001b[0m 631 ['nCH2RX'] \n",
      "\u001b[1;46mCluster\u001b[0m 632 ['Mor08s'] \n",
      "\u001b[1;46mCluster\u001b[0m 633 ['MATS5v', 'MATS5p'] \n",
      "\u001b[1;46mCluster\u001b[0m 634 ['nR=CRX'] \n",
      "\u001b[1;46mCluster\u001b[0m 635 ['MATS4i'] \n",
      "\u001b[1;46mCluster\u001b[0m 636 ['Mor21s'] \n",
      "\u001b[1;46mCluster\u001b[0m 637 ['Mor11u', 'Mor11e', 'Mor11i'] \n",
      "\u001b[1;46mCluster\u001b[0m 638 ['Mor11s'] \n",
      "\u001b[1;46mCluster\u001b[0m 639 ['Mor15s'] \n",
      "\u001b[1;46mCluster\u001b[0m 640 ['Eig15_AEA(dm)'] \n",
      "\u001b[1;46mCluster\u001b[0m 641 ['R1v+'] \n",
      "\u001b[1;46mCluster\u001b[0m 642 ['Mor26p', 'Mor26v'] \n",
      "\u001b[1;46mCluster\u001b[0m 643 ['Mor26u', 'Mor26e'] \n",
      "\u001b[1;46mCluster\u001b[0m 644 ['Mor21u', 'Mor21e'] \n",
      "\u001b[1;46mCluster\u001b[0m 645 ['Mor21v'] \n",
      "\u001b[1;46mCluster\u001b[0m 646 ['Eig10_AEA(dm)'] \n",
      "\u001b[1;46mCluster\u001b[0m 647 ['CATS2D_02_LL'] \n",
      "\u001b[1;46mCluster\u001b[0m 648 ['CATS2D_03_LL'] \n",
      "\u001b[1;46mCluster\u001b[0m 649 ['SpMAD_B(p)'] \n",
      "\u001b[1;46mCluster\u001b[0m 650 ['SpMaxA_D/Dt'] \n",
      "\u001b[1;46mCluster\u001b[0m 651 ['SaasC', 'C-026', 'F-084', 'nArX'] \n",
      "\u001b[1;46mCluster\u001b[0m 652 ['P_VSA_s_3'] \n",
      "\u001b[1;46mCluster\u001b[0m 653 ['nCb-'] \n",
      "\u001b[1;46mCluster\u001b[0m 654 ['Mor29v'] \n",
      "\u001b[1;46mCluster\u001b[0m 655 ['Mor29p'] \n",
      "\u001b[1;46mCluster\u001b[0m 656 ['E3e', 'E3i'] \n",
      "\u001b[1;46mCluster\u001b[0m 657 ['E3u'] \n",
      "\u001b[1;46mCluster\u001b[0m 658 ['Eta_sh_y'] \n",
      "\u001b[1;46mCluster\u001b[0m 659 ['Mor16p'] \n",
      "\u001b[1;46mCluster\u001b[0m 660 ['P_VSA_MR_1'] \n",
      "\u001b[1;46mCluster\u001b[0m 661 ['Eta_B_A'] \n",
      "\u001b[1;46mCluster\u001b[0m 662 ['SpPosA_X'] \n",
      "\u001b[1;46mCluster\u001b[0m 663 ['AVS_X'] \n",
      "\u001b[1;46mCluster\u001b[0m 664 ['SpMAD_EA(dm)'] \n",
      "\u001b[1;46mCluster\u001b[0m 665 ['Eig09_AEA(bo)'] \n",
      "\u001b[1;46mCluster\u001b[0m 666 ['Eig08_AEA(ri)'] \n",
      "\u001b[1;46mCluster\u001b[0m 667 ['Eig09_AEA(dm)'] \n",
      "\u001b[1;46mCluster\u001b[0m 668 ['Eig07_EA(ri)', 'SM15_AEA(bo)', 'SM02_AEA(ri)'] \n",
      "\u001b[1;46mCluster\u001b[0m 669 ['Eig07_EA(dm)'] \n",
      "\u001b[1;46mCluster\u001b[0m 670 ['BIC2', 'SIC2'] \n",
      "\u001b[1;46mCluster\u001b[0m 671 ['RARS', 'REIG'] \n",
      "\u001b[1;46mCluster\u001b[0m 672 ['Mor12p'] \n",
      "\u001b[1;46mCluster\u001b[0m 673 ['Mor14p'] \n",
      "\u001b[1;46mCluster\u001b[0m 674 ['Eig14_AEA(bo)'] \n",
      "\u001b[1;46mCluster\u001b[0m 675 ['Eig15_AEA(bo)'] \n",
      "\u001b[1;46mCluster\u001b[0m 676 ['Mor13i', 'Mor13e'] \n",
      "\u001b[1;46mCluster\u001b[0m 677 ['Mor12m'] \n",
      "\u001b[1;46mCluster\u001b[0m 678 ['Mor05s'] \n",
      "\u001b[1;46mCluster\u001b[0m 679 ['Eig12_AEA(dm)'] \n",
      "\u001b[1;46mCluster\u001b[0m 680 ['Eig13_AEA(dm)'] \n",
      "\u001b[1;46mCluster\u001b[0m 681 ['S3K'] \n",
      "\u001b[1;46mCluster\u001b[0m 682 ['Mor15m'] \n",
      "\u001b[1;46mCluster\u001b[0m 683 ['DLS_01'] \n",
      "\u001b[1;46mCluster\u001b[0m 684 ['Mor24u', 'Mor24e', 'Mor24m'] \n",
      "\u001b[1;46mCluster\u001b[0m 685 ['Mor24v'] \n",
      "\u001b[1;46mCluster\u001b[0m 686 ['Mor24p'] \n",
      "\u001b[1;46mCluster\u001b[0m 687 ['Mor31e', 'Mor31u'] \n",
      "\u001b[1;46mCluster\u001b[0m 688 ['Mor31v'] \n",
      "\u001b[1;46mCluster\u001b[0m 689 ['Mor31p'] \n",
      "\u001b[1;46mCluster\u001b[0m 690 ['Mor31m'] \n",
      "\u001b[1;46mCluster\u001b[0m 691 ['Eig10_EA(dm)'] \n",
      "\u001b[1;46mCluster\u001b[0m 692 ['Eig11_AEA(bo)'] \n",
      "\u001b[1;46mCluster\u001b[0m 693 ['SM03_AEA(dm)', 'Eig09_EA(ri)', 'SM04_AEA(ri)'] \n",
      "\u001b[1;46mCluster\u001b[0m 694 ['Eig09_EA(dm)'] \n",
      "\u001b[1;46mCluster\u001b[0m 695 ['R4i+', 'R4e+', 'HATS4u', 'HATS4i', 'HATS4e'] \n",
      "\u001b[1;46mCluster\u001b[0m 696 ['X4A'] \n",
      "\u001b[1;46mCluster\u001b[0m 697 ['R4u+'] \n",
      "\u001b[1;46mCluster\u001b[0m 698 ['HATS1u', 'HATS1e', 'HATS1i'] \n",
      "\u001b[1;46mCluster\u001b[0m 699 ['E3m'] \n",
      "\u001b[1;46mCluster\u001b[0m 700 ['E1v'] \n",
      "\u001b[1;46mCluster\u001b[0m 701 ['GATS4i'] \n",
      "\u001b[1;46mCluster\u001b[0m 702 ['E3s'] \n",
      "\u001b[1;46mCluster\u001b[0m 703 ['HATS4m', 'R4m+'] \n",
      "\u001b[1;46mCluster\u001b[0m 704 ['R4v+', 'HATS4p'] \n",
      "\u001b[1;46mCluster\u001b[0m 705 ['R4p+'] \n",
      "\u001b[1;46mCluster\u001b[0m 706 ['CIC4'] \n",
      "\u001b[1;46mCluster\u001b[0m 707 ['Eig08_EA(bo)', 'Eig08_EA(ri)', 'SM03_AEA(ri)', 'SM02_AEA(dm)'] \n",
      "\u001b[1;46mCluster\u001b[0m 708 ['Eig09_AEA(ri)'] \n",
      "\u001b[1;46mCluster\u001b[0m 709 ['Eig08_EA(dm)'] \n",
      "\u001b[1;46mCluster\u001b[0m 710 ['E1i', 'E1e'] \n",
      "\u001b[1;46mCluster\u001b[0m 711 ['E1u'] \n",
      "\u001b[1;46mCluster\u001b[0m 712 ['PJI2'] \n",
      "\u001b[1;46mCluster\u001b[0m 713 ['Di', 'De'] \n",
      "\u001b[1;46mCluster\u001b[0m 714 ['Du'] \n",
      "\u001b[1;46mCluster\u001b[0m 715 ['E2u'] \n",
      "\u001b[1;46mCluster\u001b[0m 716 ['E2e'] \n",
      "\u001b[1;46mCluster\u001b[0m 717 ['SM04_EA(dm)', 'SM03_EA(dm)'] \n",
      "\u001b[1;46mCluster\u001b[0m 718 ['SM15_EA(dm)', 'SM06_EA(dm)', 'SpDiam_EA(dm)', 'SM14_EA(dm)', 'SpMax_EA(dm)'] \n",
      "\u001b[1;46mCluster\u001b[0m 719 ['SpMax_B(s)'] \n",
      "\u001b[1;46mCluster\u001b[0m 720 ['nCRX3'] \n",
      "\u001b[1;46mCluster\u001b[0m 721 ['Mor28u'] \n",
      "\u001b[1;46mCluster\u001b[0m 722 ['Mor28i'] \n",
      "\u001b[1;46mCluster\u001b[0m 723 ['Mor28m'] \n",
      "\u001b[1;46mCluster\u001b[0m 724 ['HATSi', 'H0i'] \n",
      "\u001b[1;46mCluster\u001b[0m 725 ['Mor12s'] \n",
      "\u001b[1;46mCluster\u001b[0m 726 ['RDF020s'] \n",
      "\u001b[1;46mCluster\u001b[0m 727 ['Mor29u'] \n",
      "\u001b[1;46mCluster\u001b[0m 728 ['Mor29e'] \n",
      "\u001b[1;46mCluster\u001b[0m 729 ['R2i', 'R2e'] \n",
      "\u001b[1;46mCluster\u001b[0m 730 ['R2u'] \n",
      "\u001b[1;46mCluster\u001b[0m 731 ['Mor20s'] \n",
      "\u001b[1;46mCluster\u001b[0m 732 ['R2s'] \n",
      "\u001b[1;46mCluster\u001b[0m 733 ['Mor06s'] \n",
      "\u001b[1;46mCluster\u001b[0m 734 ['SssO'] \n",
      "\u001b[1;46mCluster\u001b[0m 735 ['MATS7p', 'GATS7e', 'GATS7v'] \n",
      "\u001b[1;46mCluster\u001b[0m 736 ['GATS7m'] \n",
      "\u001b[1;46mCluster\u001b[0m 737 ['ATSC7m'] \n",
      "\u001b[1;46mCluster\u001b[0m 738 ['MATS8s'] \n",
      "\u001b[1;46mCluster\u001b[0m 739 ['CATS2D_07_AA'] \n",
      "\u001b[1;46mCluster\u001b[0m 740 ['F06[O-F]', 'B06[O-F]', 'B05[C-O]', 'F05[C-O]'] \n",
      "\u001b[1;46mCluster\u001b[0m 741 ['nRCOX', 'F04[O-O]', 'T(O..O)', 'CATS2D_04_AA'] \n",
      "\u001b[1;46mCluster\u001b[0m 742 ['F02[O-F]', 'B02[O-F]', 'nROR', 'NssO'] \n",
      "\u001b[1;46mCluster\u001b[0m 743 ['T(O..F)'] \n",
      "\u001b[1;46mCluster\u001b[0m 744 ['nO', 'F01[C-O]', 'F02[C-O]'] \n",
      "\u001b[1;46mCluster\u001b[0m 745 ['B04[O-F]', 'B03[C-O]', 'F04[O-F]'] \n",
      "\u001b[1;46mCluster\u001b[0m 746 ['F03[C-O]'] \n",
      "\u001b[1;46mCluster\u001b[0m 747 ['DLS_cons', 'DLS_05'] \n",
      "\u001b[1;46mCluster\u001b[0m 748 ['B01[C-O]', 'B03[O-F]', 'B02[C-O]'] \n",
      "\u001b[1;46mCluster\u001b[0m 749 ['F03[O-F]'] \n",
      "\u001b[1;46mCluster\u001b[0m 750 ['Mor02s'] \n",
      "\u001b[1;46mCluster\u001b[0m 751 ['E1s'] \n",
      "\u001b[1;46mCluster\u001b[0m 752 ['P_VSA_e_5', 'O%'] \n",
      "\u001b[1;46mCluster\u001b[0m 753 ['P_VSA_LogP_4'] \n",
      "\u001b[1;46mCluster\u001b[0m 754 ['O-058'] \n",
      "\u001b[1;46mCluster\u001b[0m 755 ['NdO'] \n",
      "\u001b[1;46mCluster\u001b[0m 756 ['P_VSA_p_2', 'TPSA(NO)'] \n",
      "\u001b[1;46mCluster\u001b[0m 757 ['C-040'] \n",
      "\u001b[1;46mCluster\u001b[0m 758 ['P_VSA_MR_3'] \n",
      "\u001b[1;46mCluster\u001b[0m 759 ['C-014'] \n",
      "\u001b[1;46mCluster\u001b[0m 760 ['F-085'] \n",
      "\u001b[1;46mCluster\u001b[0m 761 ['MATS1m'] \n",
      "\u001b[1;46mCluster\u001b[0m 762 ['MATS1v'] \n",
      "\u001b[1;46mCluster\u001b[0m 763 ['TDB03i', 'TDB03e'] \n",
      "\u001b[1;46mCluster\u001b[0m 764 ['TDB03u'] \n",
      "\u001b[1;46mCluster\u001b[0m 765 ['P1v'] \n",
      "\u001b[1;46mCluster\u001b[0m 766 ['Kv'] \n",
      "\u001b[1;46mCluster\u001b[0m 767 ['P1e', 'P1u'] \n",
      "\u001b[1;46mCluster\u001b[0m 768 ['Ke', 'Ku'] \n",
      "\u001b[1;46mCluster\u001b[0m 769 ['IC2', 'BIC3', 'SIC3'] \n",
      "\u001b[1;46mCluster\u001b[0m 770 ['GATS5e', 'ATSC5m'] \n",
      "\u001b[1;46mCluster\u001b[0m 771 ['GATS5m'] \n",
      "\u001b[1;46mCluster\u001b[0m 772 ['P1s', 'Ks'] \n",
      "\u001b[1;46mCluster\u001b[0m 773 ['IVDE'] \n",
      "\u001b[1;46mCluster\u001b[0m 774 ['Mor23u'] \n",
      "\u001b[1;46mCluster\u001b[0m 775 ['Mor23v'] \n",
      "\u001b[1;46mCluster\u001b[0m 776 ['Mor11p'] \n",
      "\u001b[1;46mCluster\u001b[0m 777 ['Mor11v'] \n",
      "\u001b[1;46mCluster\u001b[0m 778 ['GATS6p'] \n",
      "\u001b[1;46mCluster\u001b[0m 779 ['F04[C-O]'] \n",
      "\u001b[1;46mCluster\u001b[0m 780 ['Mor26s'] \n",
      "\u001b[1;46mCluster\u001b[0m 781 ['Mor32p'] \n",
      "\u001b[1;46mCluster\u001b[0m 782 ['Mor16u', 'Mor16e'] \n",
      "\u001b[1;46mCluster\u001b[0m 783 ['Mor25m'] \n",
      "\u001b[1;46mCluster\u001b[0m 784 ['Mor25s'] \n",
      "\u001b[1;46mCluster\u001b[0m 785 ['Mor16m'] \n",
      "\u001b[1;46mCluster\u001b[0m 786 ['Mor16v'] \n",
      "\u001b[1;46mCluster\u001b[0m 787 ['Mor23m'] \n",
      "\u001b[1;46mCluster\u001b[0m 788 ['Mor23e']\n"
     ]
    }
   ],
   "source": [
    "# clustering\n",
    "clust = cl.FeatureCluster(X_data, 'average', 3)\n",
    "clust_info = clust.set_cluster()"
   ]
  },
  {
   "cell_type": "code",
   "execution_count": 22,
   "metadata": {},
   "outputs": [
    {
     "data": {
      "image/png": "[encoded data removed]",
      "text/plain": [
       "<matplotlib.figure.Figure at 0x102e4588>"
      ]
     },
     "metadata": {},
     "output_type": "display_data"
    }
   ],
   "source": [
    "clust.cluster_dist()"
   ]
  },
  {
   "cell_type": "markdown",
   "metadata": {},
   "source": [
    "## Feature selection_using single core"
   ]
  },
  {
   "cell_type": "code",
   "execution_count": 27,
   "metadata": {},
   "outputs": [
    {
     "name": "stdout",
     "output_type": "stream",
     "text": [
      "Start time :  21:42:18\n",
      "\u001b[1;42mClassification\u001b[0m\n",
      "100 => 21:42:35 [0.9464285714285714, ['B03[C-N]', 'SsNH2', 'StsC', 'X4sol']]\n",
      "200 => 21:42:50 [0.9464285714285714, ['B03[C-N]', 'SsNH2', 'StsC', 'X4sol']]\n",
      "300 => 21:43:06 [0.9464285714285714, ['B03[C-N]', 'SsNH2', 'X4sol', 'nCs']]\n",
      "400 => 21:43:23 [0.9464285714285714, ['B03[C-N]', 'SsNH2', 'X4sol', 'nCs']]\n",
      "500 => 21:43:38 [0.9464285714285714, ['B03[C-N]', 'SsNH2', 'X4sol', 'nCs']]\n",
      "600 => 21:43:54 [0.9464285714285714, ['B03[C-N]', 'SsNH2', 'X4sol', 'nCs']]\n",
      "700 => 21:44:11 [0.9464285714285714, ['B03[C-N]', 'SsNH2', 'X4sol', 'nCs']]\n",
      "800 => 21:44:27 [0.9464285714285714, ['B03[C-N]', 'SsNH2', 'X4sol', 'nCs']]\n",
      "900 => 21:44:43 [0.9464285714285714, ['B03[C-N]', 'SsNH2', 'X4sol', 'nCs']]\n",
      "1000 => 21:44:58 [0.9464285714285714, ['B03[C-N]', 'SsNH2', 'X4sol', 'nCs']]\n",
      "[0.9464285714285714, ['B03[C-N]', 'SsNH2', 'X4sol', 'nCs']]\n",
      "Model's cluster info [507, 599, 246, 376]\n",
      "Finish time :  21:44:58\n"
     ]
    }
   ],
   "source": [
    "from pyqsar import feature_selection_single as fss\n",
    "select = fss.selection(X_data, y_data, clust_info, model='classification', learning=1000, bank=200, component=4,pntinterval=100)"
   ]
  },
  {
   "cell_type": "code",
   "execution_count": 29,
   "metadata": {},
   "outputs": [
    {
     "data": {
      "text/plain": [
       "['B03[C-N]', 'SsNH2', 'X4sol', 'nCs']"
      ]
     },
     "execution_count": 29,
     "metadata": {},
     "output_type": "execute_result"
    }
   ],
   "source": [
    "select"
   ]
  },
  {
   "cell_type": "markdown",
   "metadata": {},
   "source": [
    "## Feature selection_using multi core"
   ]
  },
  {
   "cell_type": "code",
   "execution_count": 23,
   "metadata": {},
   "outputs": [
    {
     "name": "stdout",
     "output_type": "stream",
     "text": [
      "\u001b[1;42mClassification\u001b[0m\n"
     ]
    }
   ],
   "source": [
    "from pyqsar import feature_selection_multi as fsm\n",
    "select_m = fsm.MultiSelection(X_data, y_data, clust_info, model='classification', learning=300, bank=200, component=4)"
   ]
  },
  {
   "cell_type": "code",
   "execution_count": 26,
   "metadata": {},
   "outputs": [
    {
     "name": "stdout",
     "output_type": "stream",
     "text": [
      "[0.9464285714285714, ['B04[N-F]', 'F03[C-N]', 'nN', 'nSK']]\n",
      "[0.9464285714285714, ['B03[C-N]', 'nN', 'piPC05', 'piPC06']]\n",
      "[0.9285714285714286, ['B04[C-N]', 'nN', 'nR06', 'piPC08']]\n"
     ]
    },
    {
     "data": {
      "text/plain": [
       "['B04[N-F]', 'F03[C-N]', 'nN', 'nSK']"
      ]
     },
     "execution_count": 26,
     "metadata": {},
     "output_type": "execute_result"
    }
   ],
   "source": [
    "select_m.run(n_core=5, run_job=3) # run_job : Number of times to perform the selection function"
   ]
  },
  {
   "cell_type": "markdown",
   "metadata": {},
   "source": [
    "## Support vector machine"
   ]
  },
  {
   "cell_type": "code",
   "execution_count": 30,
   "metadata": {
    "collapsed": true
   },
   "outputs": [],
   "source": [
    "X_data = pd.DataFrame(X_data, columns= select) "
   ]
  },
  {
   "cell_type": "code",
   "execution_count": 32,
   "metadata": {},
   "outputs": [
    {
     "name": "stdout",
     "output_type": "stream",
     "text": [
      "0.946428571429\n"
     ]
    }
   ],
   "source": [
    "from sklearn.svm import SVC\n",
    "#import numpy as np\n",
    "#from sklearn.metrics import mean_squared_error , r2_score, accuracy_score\n",
    "ml = SVC(kernel='rbf', C=1.0 ,gamma=0.1 ,random_state=0)  \n",
    "#ml.fit(X_data,y_data)\n",
    "ml.fit(X_data,y_data.values.ravel())\n",
    "pred_y = ml.predict(X_data)\n",
    "score = ml.score(X_data,y_data)\n",
    "print score"
   ]
  },
  {
   "cell_type": "markdown",
   "metadata": {},
   "source": [
    "## Model report"
   ]
  },
  {
   "cell_type": "code",
   "execution_count": 33,
   "metadata": {},
   "outputs": [
    {
     "name": "stdout",
     "output_type": "stream",
     "text": [
      "Number of all : 56\n",
      "Number of worng : 3\n",
      "AccuracyScore : 0.946428571429\n"
     ]
    }
   ],
   "source": [
    "from pyqsar import classification as cla\n",
    "classi = cla.ClassifierScore(y_data, pred_y)\n",
    "classi.score()"
   ]
  },
  {
   "cell_type": "code",
   "execution_count": 34,
   "metadata": {},
   "outputs": [
    {
     "name": "stdout",
     "output_type": "stream",
     "text": [
      "Number of 1 : 48\n",
      "Number of 0 : 8\n",
      "True Positive(real 1 but pred 1) : 48\n",
      "True Negative(real 0 but pred 0) : 5\n",
      "False Positive(real 0 but pred 1) : 3\n",
      "False Negative(real 1 but pred 0) : 0\n",
      "Precision 0\n",
      "Recall 1\n"
     ]
    }
   ],
   "source": [
    "classi.tf_table()"
   ]
  },
  {
   "cell_type": "markdown",
   "metadata": {},
   "source": [
    "## Draw molecule"
   ]
  },
  {
   "cell_type": "code",
   "execution_count": 35,
   "metadata": {
    "collapsed": true
   },
   "outputs": [],
   "source": [
    "from pyqsar import draw_mol as dm\n",
    "draw = dm.DrawMols('sample_sdf.sdf')"
   ]
  },
  {
   "cell_type": "code",
   "execution_count": 37,
   "metadata": {},
   "outputs": [
    {
     "data": {
      "image/png": "[encoded data removed]",
      "text/plain": [
       "<PIL.Image.Image image mode=RGBA size=800x400 at 0x12D48470>"
      ]
     },
     "execution_count": 37,
     "metadata": {},
     "output_type": "execute_result"
    }
   ],
   "source": [
    "draw.show(index=[1,5,7,8,20])"
   ]
  },
  {
   "cell_type": "code",
   "execution_count": 38,
   "metadata": {
    "collapsed": true
   },
   "outputs": [],
   "source": [
    "commonsub=draw.common_substr(index=[1,5,7,8,20])"
   ]
  },
  {
   "cell_type": "code",
   "execution_count": 39,
   "metadata": {},
   "outputs": [
    {
     "data": {
      "image/png": "[encoded data removed]",
      "text/plain": [
       "<rdkit.Chem.rdchem.Mol at 0x104e8ce0>"
      ]
     },
     "execution_count": 39,
     "metadata": {},
     "output_type": "execute_result"
    }
   ],
   "source": [
    "draw.show_substr(commonsub)"
   ]
  },
  {
   "cell_type": "code",
   "execution_count": null,
   "metadata": {
    "collapsed": true
   },
   "outputs": [],
   "source": []
  }
 ],
 "metadata": {
  "kernelspec": {
   "display_name": "Python 2",
   "language": "python",
   "name": "python2"
  },
  "language_info": {
   "codemirror_mode": {
    "name": "ipython",
    "version": 2
   },
   "file_extension": ".py",
   "mimetype": "text/x-python",
   "name": "python",
   "nbconvert_exporter": "python",
   "pygments_lexer": "ipython2",
   "version": "2.7.13"
  }
 },
 "nbformat": 4,
 "nbformat_minor": 2
}
